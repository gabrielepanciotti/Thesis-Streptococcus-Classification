{
 "cells": [
  {
   "cell_type": "code",
   "execution_count": 8,
   "metadata": {},
   "outputs": [],
   "source": [
    "import pandas as pd\n",
    "import numpy as np\n",
    "from sklearn.preprocessing import StandardScaler\n",
    "from sklearn.decomposition import PCA\n",
    "from sklearn.metrics import accuracy_score, precision_score, recall_score, f1_score, confusion_matrix\n",
    "from sklearn.linear_model import LogisticRegression\n",
    "from sklearn.tree import DecisionTreeClassifier\n",
    "from sklearn.neighbors import KNeighborsClassifier\n",
    "from sklearn.ensemble import RandomForestClassifier\n",
    "from sklearn.model_selection import train_test_split\n",
    "from sklearn.model_selection import cross_val_score\n",
    "from sklearn.model_selection import StratifiedKFold\n",
    "from sklearn.model_selection import RandomizedSearchCV\n",
    "from sklearn.base import clone\n",
    "import warnings\n",
    "    \n",
    "# warnings -> to silence warnings\n",
    "\n",
    "warnings.filterwarnings(\"ignore\")\n",
    "np.set_printoptions(precision=5, suppress=True)\n",
    "\n",
    "\n",
    "RANDOM_STATE = 42\n",
    "N_JOBS = -1\n",
    "\n",
    "class_names = [\"Canis\", \"Dysg. Equisimilis\", \"Dysg. Dysgalactiae\"]\n",
    "\n",
    "map_target = {\n",
    "    \"Streptococcus canis\": 0,\n",
    "    \"Streptococcus dysgalactiae subsp. equisimilis\": 1,\n",
    "    \"Streptococcus dysgalactiae subsp. dysgalactiae\": 2\n",
    "}\n",
    "\n",
    "map_target_inv = {\n",
    "    0: \"Strept. canis\",\n",
    "    1: \"Strept. dysg. equisimilis\",\n",
    "    2: \"Strept. dysg. dysgalactiae\"\n",
    "}\n",
    "map_target_antibiotici = {\n",
    "    \"S\" : 1,\n",
    "    \"NS\" : 0\n",
    "}\n",
    "\n",
    "start = 9\n",
    "n_antibiotici = 9\n",
    "n_geni = 27\n",
    "n_virulenza = 18"
   ]
  },
  {
   "cell_type": "code",
   "execution_count": 9,
   "metadata": {},
   "outputs": [],
   "source": [
    "# Load the data\n",
    "n = 46\n",
    "df = pd.read_csv(\"data/Dati_Matemaldomics_\"+str(n)+\"picchi.csv\",\n",
    "                    delimiter=';', index_col='ID Strain')"
   ]
  },
  {
   "cell_type": "code",
   "execution_count": 10,
   "metadata": {},
   "outputs": [
    {
     "data": {
      "text/html": [
       "<div>\n",
       "<style scoped>\n",
       "    .dataframe tbody tr th:only-of-type {\n",
       "        vertical-align: middle;\n",
       "    }\n",
       "\n",
       "    .dataframe tbody tr th {\n",
       "        vertical-align: top;\n",
       "    }\n",
       "\n",
       "    .dataframe thead th {\n",
       "        text-align: right;\n",
       "    }\n",
       "</style>\n",
       "<table border=\"1\" class=\"dataframe\">\n",
       "  <thead>\n",
       "    <tr style=\"text-align: right;\">\n",
       "      <th></th>\n",
       "      <th>LANCEFIELD GROUP</th>\n",
       "      <th>Haemolysis</th>\n",
       "    </tr>\n",
       "    <tr>\n",
       "      <th>ID Strain</th>\n",
       "      <th></th>\n",
       "      <th></th>\n",
       "    </tr>\n",
       "  </thead>\n",
       "  <tbody>\n",
       "    <tr>\n",
       "      <th>V13</th>\n",
       "      <td>G</td>\n",
       "      <td>b</td>\n",
       "    </tr>\n",
       "    <tr>\n",
       "      <th>V142</th>\n",
       "      <td>G</td>\n",
       "      <td>b</td>\n",
       "    </tr>\n",
       "    <tr>\n",
       "      <th>V151</th>\n",
       "      <td>G</td>\n",
       "      <td>b</td>\n",
       "    </tr>\n",
       "    <tr>\n",
       "      <th>V160</th>\n",
       "      <td>G</td>\n",
       "      <td>b</td>\n",
       "    </tr>\n",
       "    <tr>\n",
       "      <th>V161</th>\n",
       "      <td>G</td>\n",
       "      <td>b</td>\n",
       "    </tr>\n",
       "    <tr>\n",
       "      <th>...</th>\n",
       "      <td>...</td>\n",
       "      <td>...</td>\n",
       "    </tr>\n",
       "    <tr>\n",
       "      <th>V800</th>\n",
       "      <td>C</td>\n",
       "      <td>a</td>\n",
       "    </tr>\n",
       "    <tr>\n",
       "      <th>V82</th>\n",
       "      <td>G</td>\n",
       "      <td>b</td>\n",
       "    </tr>\n",
       "    <tr>\n",
       "      <th>V90</th>\n",
       "      <td>G</td>\n",
       "      <td>b</td>\n",
       "    </tr>\n",
       "    <tr>\n",
       "      <th>V91</th>\n",
       "      <td>G</td>\n",
       "      <td>b</td>\n",
       "    </tr>\n",
       "    <tr>\n",
       "      <th>V95</th>\n",
       "      <td>C</td>\n",
       "      <td>b</td>\n",
       "    </tr>\n",
       "  </tbody>\n",
       "</table>\n",
       "<p>154 rows × 2 columns</p>\n",
       "</div>"
      ],
      "text/plain": [
       "          LANCEFIELD GROUP Haemolysis\n",
       "ID Strain                            \n",
       "V13                      G          b\n",
       "V142                     G          b\n",
       "V151                     G          b\n",
       "V160                     G          b\n",
       "V161                     G          b\n",
       "...                    ...        ...\n",
       "V800                     C          a\n",
       "V82                      G          b\n",
       "V90                      G          b\n",
       "V91                      G          b\n",
       "V95                      C          b\n",
       "\n",
       "[154 rows x 2 columns]"
      ]
     },
     "metadata": {},
     "output_type": "display_data"
    },
    {
     "data": {
      "text/html": [
       "<div>\n",
       "<style scoped>\n",
       "    .dataframe tbody tr th:only-of-type {\n",
       "        vertical-align: middle;\n",
       "    }\n",
       "\n",
       "    .dataframe tbody tr th {\n",
       "        vertical-align: top;\n",
       "    }\n",
       "\n",
       "    .dataframe thead th {\n",
       "        text-align: right;\n",
       "    }\n",
       "</style>\n",
       "<table border=\"1\" class=\"dataframe\">\n",
       "  <thead>\n",
       "    <tr style=\"text-align: right;\">\n",
       "      <th></th>\n",
       "      <th>ST</th>\n",
       "    </tr>\n",
       "    <tr>\n",
       "      <th>ID Strain</th>\n",
       "      <th></th>\n",
       "    </tr>\n",
       "  </thead>\n",
       "  <tbody>\n",
       "    <tr>\n",
       "      <th>V13</th>\n",
       "      <td>ST13</td>\n",
       "    </tr>\n",
       "    <tr>\n",
       "      <th>V142</th>\n",
       "      <td>ST23</td>\n",
       "    </tr>\n",
       "    <tr>\n",
       "      <th>V151</th>\n",
       "      <td>ST95</td>\n",
       "    </tr>\n",
       "    <tr>\n",
       "      <th>V160</th>\n",
       "      <td>ST15</td>\n",
       "    </tr>\n",
       "    <tr>\n",
       "      <th>V161</th>\n",
       "      <td>ST9</td>\n",
       "    </tr>\n",
       "    <tr>\n",
       "      <th>...</th>\n",
       "      <td>...</td>\n",
       "    </tr>\n",
       "    <tr>\n",
       "      <th>V800</th>\n",
       "      <td>ST307</td>\n",
       "    </tr>\n",
       "    <tr>\n",
       "      <th>V82</th>\n",
       "      <td>ST9</td>\n",
       "    </tr>\n",
       "    <tr>\n",
       "      <th>V90</th>\n",
       "      <td>ST13</td>\n",
       "    </tr>\n",
       "    <tr>\n",
       "      <th>V91</th>\n",
       "      <td>ST9</td>\n",
       "    </tr>\n",
       "    <tr>\n",
       "      <th>V95</th>\n",
       "      <td>ST705</td>\n",
       "    </tr>\n",
       "  </tbody>\n",
       "</table>\n",
       "<p>154 rows × 1 columns</p>\n",
       "</div>"
      ],
      "text/plain": [
       "              ST\n",
       "ID Strain       \n",
       "V13         ST13\n",
       "V142        ST23\n",
       "V151        ST95\n",
       "V160        ST15\n",
       "V161         ST9\n",
       "...          ...\n",
       "V800       ST307\n",
       "V82          ST9\n",
       "V90         ST13\n",
       "V91          ST9\n",
       "V95        ST705\n",
       "\n",
       "[154 rows x 1 columns]"
      ]
     },
     "metadata": {},
     "output_type": "display_data"
    },
    {
     "data": {
      "text/html": [
       "<div>\n",
       "<style scoped>\n",
       "    .dataframe tbody tr th:only-of-type {\n",
       "        vertical-align: middle;\n",
       "    }\n",
       "\n",
       "    .dataframe tbody tr th {\n",
       "        vertical-align: top;\n",
       "    }\n",
       "\n",
       "    .dataframe thead th {\n",
       "        text-align: right;\n",
       "    }\n",
       "</style>\n",
       "<table border=\"1\" class=\"dataframe\">\n",
       "  <thead>\n",
       "    <tr style=\"text-align: right;\">\n",
       "      <th></th>\n",
       "      <th>2223,140967</th>\n",
       "      <th>2241,073989</th>\n",
       "      <th>2262,75751</th>\n",
       "      <th>2679,802856</th>\n",
       "      <th>2978,296408</th>\n",
       "      <th>3159,441237</th>\n",
       "      <th>3354,28405</th>\n",
       "      <th>3364,608472</th>\n",
       "      <th>3397,909861</th>\n",
       "      <th>3418,174965</th>\n",
       "      <th>...</th>\n",
       "      <th>9030,351844</th>\n",
       "      <th>9073,208159</th>\n",
       "      <th>9487,183195</th>\n",
       "      <th>10103,20284</th>\n",
       "      <th>10400,80576</th>\n",
       "      <th>10491,16654</th>\n",
       "      <th>10930,54833</th>\n",
       "      <th>13276,73249</th>\n",
       "      <th>14943,03835</th>\n",
       "      <th>15048,89449</th>\n",
       "    </tr>\n",
       "    <tr>\n",
       "      <th>ID Strain</th>\n",
       "      <th></th>\n",
       "      <th></th>\n",
       "      <th></th>\n",
       "      <th></th>\n",
       "      <th></th>\n",
       "      <th></th>\n",
       "      <th></th>\n",
       "      <th></th>\n",
       "      <th></th>\n",
       "      <th></th>\n",
       "      <th></th>\n",
       "      <th></th>\n",
       "      <th></th>\n",
       "      <th></th>\n",
       "      <th></th>\n",
       "      <th></th>\n",
       "      <th></th>\n",
       "      <th></th>\n",
       "      <th></th>\n",
       "      <th></th>\n",
       "      <th></th>\n",
       "    </tr>\n",
       "  </thead>\n",
       "  <tbody>\n",
       "    <tr>\n",
       "      <th>V13</th>\n",
       "      <td>0.000665</td>\n",
       "      <td>0.000180</td>\n",
       "      <td>0.000198</td>\n",
       "      <td>0.000059</td>\n",
       "      <td>0.000865</td>\n",
       "      <td>0.000497</td>\n",
       "      <td>0.000197</td>\n",
       "      <td>0.000272</td>\n",
       "      <td>0.000578</td>\n",
       "      <td>0.000198</td>\n",
       "      <td>...</td>\n",
       "      <td>0.000206</td>\n",
       "      <td>0.000133</td>\n",
       "      <td>0.000587</td>\n",
       "      <td>0.000180</td>\n",
       "      <td>0.000065</td>\n",
       "      <td>0.000065</td>\n",
       "      <td>0.000172</td>\n",
       "      <td>0.000076</td>\n",
       "      <td>0.000058</td>\n",
       "      <td>0.000142</td>\n",
       "    </tr>\n",
       "    <tr>\n",
       "      <th>V142</th>\n",
       "      <td>0.000648</td>\n",
       "      <td>0.000156</td>\n",
       "      <td>0.000192</td>\n",
       "      <td>0.000400</td>\n",
       "      <td>0.000698</td>\n",
       "      <td>0.000414</td>\n",
       "      <td>0.000684</td>\n",
       "      <td>0.000349</td>\n",
       "      <td>0.000617</td>\n",
       "      <td>0.000494</td>\n",
       "      <td>...</td>\n",
       "      <td>0.000219</td>\n",
       "      <td>0.000205</td>\n",
       "      <td>0.000465</td>\n",
       "      <td>0.000193</td>\n",
       "      <td>0.000142</td>\n",
       "      <td>0.000116</td>\n",
       "      <td>0.000165</td>\n",
       "      <td>0.000067</td>\n",
       "      <td>0.000067</td>\n",
       "      <td>0.000194</td>\n",
       "    </tr>\n",
       "    <tr>\n",
       "      <th>V151</th>\n",
       "      <td>0.000545</td>\n",
       "      <td>0.000331</td>\n",
       "      <td>0.000204</td>\n",
       "      <td>0.000277</td>\n",
       "      <td>0.000613</td>\n",
       "      <td>0.000464</td>\n",
       "      <td>0.000279</td>\n",
       "      <td>0.001031</td>\n",
       "      <td>0.000624</td>\n",
       "      <td>0.000409</td>\n",
       "      <td>...</td>\n",
       "      <td>0.000261</td>\n",
       "      <td>0.000263</td>\n",
       "      <td>0.000585</td>\n",
       "      <td>0.000235</td>\n",
       "      <td>0.000198</td>\n",
       "      <td>0.000152</td>\n",
       "      <td>0.000208</td>\n",
       "      <td>0.000084</td>\n",
       "      <td>0.000092</td>\n",
       "      <td>0.000069</td>\n",
       "    </tr>\n",
       "    <tr>\n",
       "      <th>V160</th>\n",
       "      <td>0.000509</td>\n",
       "      <td>0.000191</td>\n",
       "      <td>0.000193</td>\n",
       "      <td>0.000266</td>\n",
       "      <td>0.000489</td>\n",
       "      <td>0.000358</td>\n",
       "      <td>0.000628</td>\n",
       "      <td>0.000692</td>\n",
       "      <td>0.000564</td>\n",
       "      <td>0.000611</td>\n",
       "      <td>...</td>\n",
       "      <td>0.000311</td>\n",
       "      <td>0.000312</td>\n",
       "      <td>0.000083</td>\n",
       "      <td>0.000241</td>\n",
       "      <td>0.000242</td>\n",
       "      <td>0.000187</td>\n",
       "      <td>0.000245</td>\n",
       "      <td>0.000082</td>\n",
       "      <td>0.000075</td>\n",
       "      <td>0.000136</td>\n",
       "    </tr>\n",
       "    <tr>\n",
       "      <th>V161</th>\n",
       "      <td>0.000517</td>\n",
       "      <td>0.000118</td>\n",
       "      <td>0.000158</td>\n",
       "      <td>0.000163</td>\n",
       "      <td>0.000610</td>\n",
       "      <td>0.000502</td>\n",
       "      <td>0.000621</td>\n",
       "      <td>0.000315</td>\n",
       "      <td>0.000507</td>\n",
       "      <td>0.000638</td>\n",
       "      <td>...</td>\n",
       "      <td>0.000206</td>\n",
       "      <td>0.000224</td>\n",
       "      <td>0.000711</td>\n",
       "      <td>0.000242</td>\n",
       "      <td>0.000156</td>\n",
       "      <td>0.000116</td>\n",
       "      <td>0.000154</td>\n",
       "      <td>0.000093</td>\n",
       "      <td>0.000072</td>\n",
       "      <td>0.000203</td>\n",
       "    </tr>\n",
       "    <tr>\n",
       "      <th>...</th>\n",
       "      <td>...</td>\n",
       "      <td>...</td>\n",
       "      <td>...</td>\n",
       "      <td>...</td>\n",
       "      <td>...</td>\n",
       "      <td>...</td>\n",
       "      <td>...</td>\n",
       "      <td>...</td>\n",
       "      <td>...</td>\n",
       "      <td>...</td>\n",
       "      <td>...</td>\n",
       "      <td>...</td>\n",
       "      <td>...</td>\n",
       "      <td>...</td>\n",
       "      <td>...</td>\n",
       "      <td>...</td>\n",
       "      <td>...</td>\n",
       "      <td>...</td>\n",
       "      <td>...</td>\n",
       "      <td>...</td>\n",
       "      <td>...</td>\n",
       "    </tr>\n",
       "    <tr>\n",
       "      <th>V800</th>\n",
       "      <td>0.000456</td>\n",
       "      <td>0.000253</td>\n",
       "      <td>0.000125</td>\n",
       "      <td>0.000061</td>\n",
       "      <td>0.000586</td>\n",
       "      <td>0.000365</td>\n",
       "      <td>0.000258</td>\n",
       "      <td>0.001095</td>\n",
       "      <td>0.000537</td>\n",
       "      <td>0.000214</td>\n",
       "      <td>...</td>\n",
       "      <td>0.000102</td>\n",
       "      <td>0.000195</td>\n",
       "      <td>0.000843</td>\n",
       "      <td>0.000250</td>\n",
       "      <td>0.000088</td>\n",
       "      <td>0.000109</td>\n",
       "      <td>0.000298</td>\n",
       "      <td>0.000060</td>\n",
       "      <td>0.000073</td>\n",
       "      <td>0.000059</td>\n",
       "    </tr>\n",
       "    <tr>\n",
       "      <th>V82</th>\n",
       "      <td>0.000459</td>\n",
       "      <td>0.000121</td>\n",
       "      <td>0.000147</td>\n",
       "      <td>0.000270</td>\n",
       "      <td>0.000571</td>\n",
       "      <td>0.000338</td>\n",
       "      <td>0.000596</td>\n",
       "      <td>0.000321</td>\n",
       "      <td>0.000537</td>\n",
       "      <td>0.000668</td>\n",
       "      <td>...</td>\n",
       "      <td>0.000263</td>\n",
       "      <td>0.000277</td>\n",
       "      <td>0.000452</td>\n",
       "      <td>0.000254</td>\n",
       "      <td>0.000211</td>\n",
       "      <td>0.000162</td>\n",
       "      <td>0.000203</td>\n",
       "      <td>0.000059</td>\n",
       "      <td>0.000070</td>\n",
       "      <td>0.000144</td>\n",
       "    </tr>\n",
       "    <tr>\n",
       "      <th>V90</th>\n",
       "      <td>0.000505</td>\n",
       "      <td>0.000154</td>\n",
       "      <td>0.000158</td>\n",
       "      <td>0.000181</td>\n",
       "      <td>0.000610</td>\n",
       "      <td>0.000473</td>\n",
       "      <td>0.000374</td>\n",
       "      <td>0.000525</td>\n",
       "      <td>0.000513</td>\n",
       "      <td>0.000377</td>\n",
       "      <td>...</td>\n",
       "      <td>0.000288</td>\n",
       "      <td>0.000310</td>\n",
       "      <td>0.000671</td>\n",
       "      <td>0.000237</td>\n",
       "      <td>0.000224</td>\n",
       "      <td>0.000185</td>\n",
       "      <td>0.000230</td>\n",
       "      <td>0.000089</td>\n",
       "      <td>0.000080</td>\n",
       "      <td>0.000137</td>\n",
       "    </tr>\n",
       "    <tr>\n",
       "      <th>V91</th>\n",
       "      <td>0.000520</td>\n",
       "      <td>0.000124</td>\n",
       "      <td>0.000169</td>\n",
       "      <td>0.000174</td>\n",
       "      <td>0.000597</td>\n",
       "      <td>0.000414</td>\n",
       "      <td>0.000572</td>\n",
       "      <td>0.000310</td>\n",
       "      <td>0.000532</td>\n",
       "      <td>0.000646</td>\n",
       "      <td>...</td>\n",
       "      <td>0.000237</td>\n",
       "      <td>0.000259</td>\n",
       "      <td>0.000514</td>\n",
       "      <td>0.000237</td>\n",
       "      <td>0.000202</td>\n",
       "      <td>0.000150</td>\n",
       "      <td>0.000175</td>\n",
       "      <td>0.000092</td>\n",
       "      <td>0.000078</td>\n",
       "      <td>0.000214</td>\n",
       "    </tr>\n",
       "    <tr>\n",
       "      <th>V95</th>\n",
       "      <td>0.000538</td>\n",
       "      <td>0.000144</td>\n",
       "      <td>0.000175</td>\n",
       "      <td>0.000062</td>\n",
       "      <td>0.000137</td>\n",
       "      <td>0.000414</td>\n",
       "      <td>0.000090</td>\n",
       "      <td>0.000196</td>\n",
       "      <td>0.000574</td>\n",
       "      <td>0.000429</td>\n",
       "      <td>...</td>\n",
       "      <td>0.000215</td>\n",
       "      <td>0.000182</td>\n",
       "      <td>0.000720</td>\n",
       "      <td>0.000066</td>\n",
       "      <td>0.000081</td>\n",
       "      <td>0.000101</td>\n",
       "      <td>0.000213</td>\n",
       "      <td>0.000067</td>\n",
       "      <td>0.000063</td>\n",
       "      <td>0.000043</td>\n",
       "    </tr>\n",
       "  </tbody>\n",
       "</table>\n",
       "<p>154 rows × 46 columns</p>\n",
       "</div>"
      ],
      "text/plain": [
       "           2223,140967  2241,073989  2262,75751  2679,802856  2978,296408  \\\n",
       "ID Strain                                                                   \n",
       "V13           0.000665     0.000180    0.000198     0.000059     0.000865   \n",
       "V142          0.000648     0.000156    0.000192     0.000400     0.000698   \n",
       "V151          0.000545     0.000331    0.000204     0.000277     0.000613   \n",
       "V160          0.000509     0.000191    0.000193     0.000266     0.000489   \n",
       "V161          0.000517     0.000118    0.000158     0.000163     0.000610   \n",
       "...                ...          ...         ...          ...          ...   \n",
       "V800          0.000456     0.000253    0.000125     0.000061     0.000586   \n",
       "V82           0.000459     0.000121    0.000147     0.000270     0.000571   \n",
       "V90           0.000505     0.000154    0.000158     0.000181     0.000610   \n",
       "V91           0.000520     0.000124    0.000169     0.000174     0.000597   \n",
       "V95           0.000538     0.000144    0.000175     0.000062     0.000137   \n",
       "\n",
       "           3159,441237  3354,28405  3364,608472  3397,909861  3418,174965  \\\n",
       "ID Strain                                                                   \n",
       "V13           0.000497    0.000197     0.000272     0.000578     0.000198   \n",
       "V142          0.000414    0.000684     0.000349     0.000617     0.000494   \n",
       "V151          0.000464    0.000279     0.001031     0.000624     0.000409   \n",
       "V160          0.000358    0.000628     0.000692     0.000564     0.000611   \n",
       "V161          0.000502    0.000621     0.000315     0.000507     0.000638   \n",
       "...                ...         ...          ...          ...          ...   \n",
       "V800          0.000365    0.000258     0.001095     0.000537     0.000214   \n",
       "V82           0.000338    0.000596     0.000321     0.000537     0.000668   \n",
       "V90           0.000473    0.000374     0.000525     0.000513     0.000377   \n",
       "V91           0.000414    0.000572     0.000310     0.000532     0.000646   \n",
       "V95           0.000414    0.000090     0.000196     0.000574     0.000429   \n",
       "\n",
       "           ...  9030,351844  9073,208159  9487,183195  10103,20284  \\\n",
       "ID Strain  ...                                                       \n",
       "V13        ...     0.000206     0.000133     0.000587     0.000180   \n",
       "V142       ...     0.000219     0.000205     0.000465     0.000193   \n",
       "V151       ...     0.000261     0.000263     0.000585     0.000235   \n",
       "V160       ...     0.000311     0.000312     0.000083     0.000241   \n",
       "V161       ...     0.000206     0.000224     0.000711     0.000242   \n",
       "...        ...          ...          ...          ...          ...   \n",
       "V800       ...     0.000102     0.000195     0.000843     0.000250   \n",
       "V82        ...     0.000263     0.000277     0.000452     0.000254   \n",
       "V90        ...     0.000288     0.000310     0.000671     0.000237   \n",
       "V91        ...     0.000237     0.000259     0.000514     0.000237   \n",
       "V95        ...     0.000215     0.000182     0.000720     0.000066   \n",
       "\n",
       "           10400,80576  10491,16654  10930,54833  13276,73249  14943,03835  \\\n",
       "ID Strain                                                                    \n",
       "V13           0.000065     0.000065     0.000172     0.000076     0.000058   \n",
       "V142          0.000142     0.000116     0.000165     0.000067     0.000067   \n",
       "V151          0.000198     0.000152     0.000208     0.000084     0.000092   \n",
       "V160          0.000242     0.000187     0.000245     0.000082     0.000075   \n",
       "V161          0.000156     0.000116     0.000154     0.000093     0.000072   \n",
       "...                ...          ...          ...          ...          ...   \n",
       "V800          0.000088     0.000109     0.000298     0.000060     0.000073   \n",
       "V82           0.000211     0.000162     0.000203     0.000059     0.000070   \n",
       "V90           0.000224     0.000185     0.000230     0.000089     0.000080   \n",
       "V91           0.000202     0.000150     0.000175     0.000092     0.000078   \n",
       "V95           0.000081     0.000101     0.000213     0.000067     0.000063   \n",
       "\n",
       "           15048,89449  \n",
       "ID Strain               \n",
       "V13           0.000142  \n",
       "V142          0.000194  \n",
       "V151          0.000069  \n",
       "V160          0.000136  \n",
       "V161          0.000203  \n",
       "...                ...  \n",
       "V800          0.000059  \n",
       "V82           0.000144  \n",
       "V90           0.000137  \n",
       "V91           0.000214  \n",
       "V95           0.000043  \n",
       "\n",
       "[154 rows x 46 columns]"
      ]
     },
     "metadata": {},
     "output_type": "display_data"
    },
    {
     "name": "stdout",
     "output_type": "stream",
     "text": [
      "Eritromicina : 0.461038961038961\n",
      "Ceftiofur : 0.0\n",
      "Tetraciclina : 0.5194805194805194\n",
      "Gentamicina : 0.6233766233766234\n",
      "Penicillina : 0.0\n",
      "Ampicillina : 0.0\n",
      "Sulfametossazolo_trimethoprim : 0.01948051948051948\n",
      "Clindamicina : 0.2662337662337662\n",
      "Enrofloxacin : 0.6688311688311688\n"
     ]
    },
    {
     "data": {
      "text/html": [
       "<div>\n",
       "<style scoped>\n",
       "    .dataframe tbody tr th:only-of-type {\n",
       "        vertical-align: middle;\n",
       "    }\n",
       "\n",
       "    .dataframe tbody tr th {\n",
       "        vertical-align: top;\n",
       "    }\n",
       "\n",
       "    .dataframe thead th {\n",
       "        text-align: right;\n",
       "    }\n",
       "</style>\n",
       "<table border=\"1\" class=\"dataframe\">\n",
       "  <thead>\n",
       "    <tr style=\"text-align: right;\">\n",
       "      <th></th>\n",
       "      <th>Eritromicina</th>\n",
       "      <th>Tetraciclina</th>\n",
       "      <th>Gentamicina</th>\n",
       "      <th>Clindamicina</th>\n",
       "      <th>Enrofloxacin</th>\n",
       "    </tr>\n",
       "    <tr>\n",
       "      <th>ID Strain</th>\n",
       "      <th></th>\n",
       "      <th></th>\n",
       "      <th></th>\n",
       "      <th></th>\n",
       "      <th></th>\n",
       "    </tr>\n",
       "  </thead>\n",
       "  <tbody>\n",
       "    <tr>\n",
       "      <th>V13</th>\n",
       "      <td>0</td>\n",
       "      <td>0</td>\n",
       "      <td>0</td>\n",
       "      <td>1</td>\n",
       "      <td>0</td>\n",
       "    </tr>\n",
       "    <tr>\n",
       "      <th>V142</th>\n",
       "      <td>0</td>\n",
       "      <td>1</td>\n",
       "      <td>1</td>\n",
       "      <td>1</td>\n",
       "      <td>0</td>\n",
       "    </tr>\n",
       "    <tr>\n",
       "      <th>V151</th>\n",
       "      <td>1</td>\n",
       "      <td>1</td>\n",
       "      <td>0</td>\n",
       "      <td>1</td>\n",
       "      <td>0</td>\n",
       "    </tr>\n",
       "    <tr>\n",
       "      <th>V160</th>\n",
       "      <td>1</td>\n",
       "      <td>0</td>\n",
       "      <td>0</td>\n",
       "      <td>1</td>\n",
       "      <td>0</td>\n",
       "    </tr>\n",
       "    <tr>\n",
       "      <th>V161</th>\n",
       "      <td>1</td>\n",
       "      <td>1</td>\n",
       "      <td>0</td>\n",
       "      <td>1</td>\n",
       "      <td>0</td>\n",
       "    </tr>\n",
       "    <tr>\n",
       "      <th>...</th>\n",
       "      <td>...</td>\n",
       "      <td>...</td>\n",
       "      <td>...</td>\n",
       "      <td>...</td>\n",
       "      <td>...</td>\n",
       "    </tr>\n",
       "    <tr>\n",
       "      <th>V800</th>\n",
       "      <td>1</td>\n",
       "      <td>0</td>\n",
       "      <td>1</td>\n",
       "      <td>1</td>\n",
       "      <td>0</td>\n",
       "    </tr>\n",
       "    <tr>\n",
       "      <th>V82</th>\n",
       "      <td>1</td>\n",
       "      <td>1</td>\n",
       "      <td>0</td>\n",
       "      <td>1</td>\n",
       "      <td>1</td>\n",
       "    </tr>\n",
       "    <tr>\n",
       "      <th>V90</th>\n",
       "      <td>1</td>\n",
       "      <td>0</td>\n",
       "      <td>0</td>\n",
       "      <td>1</td>\n",
       "      <td>0</td>\n",
       "    </tr>\n",
       "    <tr>\n",
       "      <th>V91</th>\n",
       "      <td>1</td>\n",
       "      <td>1</td>\n",
       "      <td>0</td>\n",
       "      <td>1</td>\n",
       "      <td>0</td>\n",
       "    </tr>\n",
       "    <tr>\n",
       "      <th>V95</th>\n",
       "      <td>0</td>\n",
       "      <td>0</td>\n",
       "      <td>0</td>\n",
       "      <td>0</td>\n",
       "      <td>1</td>\n",
       "    </tr>\n",
       "  </tbody>\n",
       "</table>\n",
       "<p>154 rows × 5 columns</p>\n",
       "</div>"
      ],
      "text/plain": [
       "           Eritromicina  Tetraciclina  Gentamicina  Clindamicina  Enrofloxacin\n",
       "ID Strain                                                                     \n",
       "V13                   0             0            0             1             0\n",
       "V142                  0             1            1             1             0\n",
       "V151                  1             1            0             1             0\n",
       "V160                  1             0            0             1             0\n",
       "V161                  1             1            0             1             0\n",
       "...                 ...           ...          ...           ...           ...\n",
       "V800                  1             0            1             1             0\n",
       "V82                   1             1            0             1             1\n",
       "V90                   1             0            0             1             0\n",
       "V91                   1             1            0             1             0\n",
       "V95                   0             0            0             0             1\n",
       "\n",
       "[154 rows x 5 columns]"
      ]
     },
     "metadata": {},
     "output_type": "display_data"
    },
    {
     "name": "stdout",
     "output_type": "stream",
     "text": [
      "aad(6) : 0.935064935064935\n",
      "ANT(6)-Ia : 0.8246753246753247\n",
      "APH(2'')-IIIa : 1.0\n",
      "APH(3')-IIIa : 0.9025974025974026\n",
      "catS : 0.9675324675324676\n",
      "dfrF : 0.9805194805194806\n",
      "E. faecalis chloramphenicol acetyltransferase : 0.9935064935064936\n",
      "Erm(47) : 0.987012987012987\n",
      "ErmB : 0.8181818181818182\n",
      "fexA : 0.9935064935064936\n",
      "L._reuteri cat-TC : 1.0\n",
      "lmrP : 0.006493506493506494\n",
      "lnuC : 0.987012987012987\n",
      "lnuD : 0.9935064935064936\n",
      "lsaC : 0.961038961038961\n",
      "lsaE : 0.7857142857142857\n",
      "mefE : 0.8506493506493507\n",
      "optrA : 0.9935064935064936\n",
      "poxtA : 0.9935064935064936\n",
      "SAT-4 : 0.922077922077922\n",
      "tet(40) : 0.987012987012987\n",
      "tet(L) : 0.9935064935064936\n",
      "tetM : 0.8181818181818182\n",
      "tetO : 0.7402597402597403\n",
      "tetS : 0.9805194805194806\n",
      "tetT : 0.974025974025974\n",
      "vatE : 0.9935064935064936\n"
     ]
    },
    {
     "data": {
      "text/html": [
       "<div>\n",
       "<style scoped>\n",
       "    .dataframe tbody tr th:only-of-type {\n",
       "        vertical-align: middle;\n",
       "    }\n",
       "\n",
       "    .dataframe tbody tr th {\n",
       "        vertical-align: top;\n",
       "    }\n",
       "\n",
       "    .dataframe thead th {\n",
       "        text-align: right;\n",
       "    }\n",
       "</style>\n",
       "<table border=\"1\" class=\"dataframe\">\n",
       "  <thead>\n",
       "    <tr style=\"text-align: right;\">\n",
       "      <th></th>\n",
       "      <th>ANT(6)-Ia</th>\n",
       "      <th>ErmB</th>\n",
       "      <th>lsaE</th>\n",
       "      <th>tetM</th>\n",
       "      <th>tetO</th>\n",
       "    </tr>\n",
       "    <tr>\n",
       "      <th>ID Strain</th>\n",
       "      <th></th>\n",
       "      <th></th>\n",
       "      <th></th>\n",
       "      <th></th>\n",
       "      <th></th>\n",
       "    </tr>\n",
       "  </thead>\n",
       "  <tbody>\n",
       "    <tr>\n",
       "      <th>V13</th>\n",
       "      <td>0</td>\n",
       "      <td>0</td>\n",
       "      <td>0</td>\n",
       "      <td>0</td>\n",
       "      <td>0</td>\n",
       "    </tr>\n",
       "    <tr>\n",
       "      <th>V142</th>\n",
       "      <td>0</td>\n",
       "      <td>0</td>\n",
       "      <td>0</td>\n",
       "      <td>0</td>\n",
       "      <td>0</td>\n",
       "    </tr>\n",
       "    <tr>\n",
       "      <th>V151</th>\n",
       "      <td>0</td>\n",
       "      <td>0</td>\n",
       "      <td>0</td>\n",
       "      <td>0</td>\n",
       "      <td>0</td>\n",
       "    </tr>\n",
       "    <tr>\n",
       "      <th>V160</th>\n",
       "      <td>0</td>\n",
       "      <td>0</td>\n",
       "      <td>0</td>\n",
       "      <td>0</td>\n",
       "      <td>0</td>\n",
       "    </tr>\n",
       "    <tr>\n",
       "      <th>V161</th>\n",
       "      <td>0</td>\n",
       "      <td>0</td>\n",
       "      <td>0</td>\n",
       "      <td>0</td>\n",
       "      <td>0</td>\n",
       "    </tr>\n",
       "    <tr>\n",
       "      <th>...</th>\n",
       "      <td>...</td>\n",
       "      <td>...</td>\n",
       "      <td>...</td>\n",
       "      <td>...</td>\n",
       "      <td>...</td>\n",
       "    </tr>\n",
       "    <tr>\n",
       "      <th>V800</th>\n",
       "      <td>0</td>\n",
       "      <td>0</td>\n",
       "      <td>0</td>\n",
       "      <td>1</td>\n",
       "      <td>0</td>\n",
       "    </tr>\n",
       "    <tr>\n",
       "      <th>V82</th>\n",
       "      <td>0</td>\n",
       "      <td>0</td>\n",
       "      <td>0</td>\n",
       "      <td>0</td>\n",
       "      <td>0</td>\n",
       "    </tr>\n",
       "    <tr>\n",
       "      <th>V90</th>\n",
       "      <td>0</td>\n",
       "      <td>0</td>\n",
       "      <td>0</td>\n",
       "      <td>0</td>\n",
       "      <td>0</td>\n",
       "    </tr>\n",
       "    <tr>\n",
       "      <th>V91</th>\n",
       "      <td>0</td>\n",
       "      <td>0</td>\n",
       "      <td>0</td>\n",
       "      <td>0</td>\n",
       "      <td>0</td>\n",
       "    </tr>\n",
       "    <tr>\n",
       "      <th>V95</th>\n",
       "      <td>1</td>\n",
       "      <td>1</td>\n",
       "      <td>1</td>\n",
       "      <td>0</td>\n",
       "      <td>1</td>\n",
       "    </tr>\n",
       "  </tbody>\n",
       "</table>\n",
       "<p>154 rows × 5 columns</p>\n",
       "</div>"
      ],
      "text/plain": [
       "           ANT(6)-Ia  ErmB  lsaE  tetM  tetO\n",
       "ID Strain                                   \n",
       "V13                0     0     0     0     0\n",
       "V142               0     0     0     0     0\n",
       "V151               0     0     0     0     0\n",
       "V160               0     0     0     0     0\n",
       "V161               0     0     0     0     0\n",
       "...              ...   ...   ...   ...   ...\n",
       "V800               0     0     0     1     0\n",
       "V82                0     0     0     0     0\n",
       "V90                0     0     0     0     0\n",
       "V91                0     0     0     0     0\n",
       "V95                1     1     1     0     1\n",
       "\n",
       "[154 rows x 5 columns]"
      ]
     },
     "metadata": {},
     "output_type": "display_data"
    },
    {
     "name": "stdout",
     "output_type": "stream",
     "text": [
      "fbp54 : 0.0\n",
      "gbs0630 : 0.9935064935064936\n",
      "gbs0631 : 0.9935064935064936\n",
      "gbs0632 : 0.9935064935064936\n",
      "hasC : 0.0\n",
      "lmb : 0.9935064935064936\n",
      "mf2 : 0.961038961038961\n",
      "mf3 : 0.6753246753246753\n",
      "scpA : 0.9935064935064936\n",
      "sda : 0.8766233766233766\n",
      "ska : 0.9935064935064936\n",
      "slo : 0.9935064935064936\n",
      "smeZ : 0.9935064935064936\n",
      "spec : 0.974025974025974\n",
      "speg : 0.9090909090909091\n",
      "spek : 0.961038961038961\n",
      "spel : 0.974025974025974\n",
      "spem : 0.948051948051948\n"
     ]
    },
    {
     "data": {
      "text/html": [
       "<div>\n",
       "<style scoped>\n",
       "    .dataframe tbody tr th:only-of-type {\n",
       "        vertical-align: middle;\n",
       "    }\n",
       "\n",
       "    .dataframe tbody tr th {\n",
       "        vertical-align: top;\n",
       "    }\n",
       "\n",
       "    .dataframe thead th {\n",
       "        text-align: right;\n",
       "    }\n",
       "</style>\n",
       "<table border=\"1\" class=\"dataframe\">\n",
       "  <thead>\n",
       "    <tr style=\"text-align: right;\">\n",
       "      <th></th>\n",
       "      <th>mf3</th>\n",
       "    </tr>\n",
       "    <tr>\n",
       "      <th>ID Strain</th>\n",
       "      <th></th>\n",
       "    </tr>\n",
       "  </thead>\n",
       "  <tbody>\n",
       "    <tr>\n",
       "      <th>V13</th>\n",
       "      <td>0</td>\n",
       "    </tr>\n",
       "    <tr>\n",
       "      <th>V142</th>\n",
       "      <td>1</td>\n",
       "    </tr>\n",
       "    <tr>\n",
       "      <th>V151</th>\n",
       "      <td>0</td>\n",
       "    </tr>\n",
       "    <tr>\n",
       "      <th>V160</th>\n",
       "      <td>0</td>\n",
       "    </tr>\n",
       "    <tr>\n",
       "      <th>V161</th>\n",
       "      <td>1</td>\n",
       "    </tr>\n",
       "    <tr>\n",
       "      <th>...</th>\n",
       "      <td>...</td>\n",
       "    </tr>\n",
       "    <tr>\n",
       "      <th>V800</th>\n",
       "      <td>0</td>\n",
       "    </tr>\n",
       "    <tr>\n",
       "      <th>V82</th>\n",
       "      <td>1</td>\n",
       "    </tr>\n",
       "    <tr>\n",
       "      <th>V90</th>\n",
       "      <td>0</td>\n",
       "    </tr>\n",
       "    <tr>\n",
       "      <th>V91</th>\n",
       "      <td>1</td>\n",
       "    </tr>\n",
       "    <tr>\n",
       "      <th>V95</th>\n",
       "      <td>0</td>\n",
       "    </tr>\n",
       "  </tbody>\n",
       "</table>\n",
       "<p>154 rows × 1 columns</p>\n",
       "</div>"
      ],
      "text/plain": [
       "           mf3\n",
       "ID Strain     \n",
       "V13          0\n",
       "V142         1\n",
       "V151         0\n",
       "V160         0\n",
       "V161         1\n",
       "...        ...\n",
       "V800         0\n",
       "V82          1\n",
       "V90          0\n",
       "V91          1\n",
       "V95          0\n",
       "\n",
       "[154 rows x 1 columns]"
      ]
     },
     "metadata": {},
     "output_type": "display_data"
    }
   ],
   "source": [
    "df['subspecies'] = df[\"Putative Subspecies\"].map(map_target)\n",
    "\n",
    "feat_agg = df.iloc[:,[7,8]]\n",
    "display(feat_agg)\n",
    "st = df.iloc[:,[4]]\n",
    "display(st)\n",
    "subspecies = df[['subspecies']]\n",
    "maldi = df.iloc[:,start:start+n]\n",
    "antibiotici = df.iloc[:,start+n:start+n+n_antibiotici]\n",
    "geni_antibiotici = df.iloc[:,start+n+n_antibiotici:start+n+n_antibiotici+n_geni]\n",
    "virulenza = df.iloc[:,start+n+n_antibiotici+n_geni:start+n+n_antibiotici+n_geni+n_virulenza]\n",
    "\n",
    "maldi.fillna(0, inplace=True)\n",
    "maldi = maldi.replace(',', '.', regex=True)\n",
    "columns = maldi.columns\n",
    "for column in columns:\n",
    "    maldi[column] = maldi[column].astype(float)\n",
    "display(maldi)\n",
    "\n",
    "targets = {'antibiotici' : antibiotici,\n",
    "            'geni_antibiotici' : geni_antibiotici,\n",
    "            'virulenza' : virulenza}\n",
    "\n",
    "for str_target,target in targets.items():\n",
    "    columns = target.columns\n",
    "    for column in columns:\n",
    "        if str_target == 'antibiotici':\n",
    "            target[column] = df[column].map(map_target_antibiotici)\n",
    "        rapporto = (target[column] == 0).sum() / target.shape[0]\n",
    "        #if (antibiotici[column] == 0).all() or (antibiotici[column] == 1).all():\n",
    "        print(column+\" : \"+str(rapporto))\n",
    "        if rapporto < 0.15 or rapporto > 0.85:\n",
    "            target.drop([column], axis=1, inplace=True)\n",
    "            \n",
    "    display(target)\n",
    "    \n",
    "targets['st'] = st\n",
    "target['subspecies'] = subspecies"
   ]
  },
  {
   "cell_type": "code",
   "execution_count": 11,
   "metadata": {},
   "outputs": [],
   "source": [
    "# Define a function for standard scaling\n",
    "def standard_scaler(X_train, X_test):\n",
    "    scaler = StandardScaler()\n",
    "    X_train_scaled = scaler.fit_transform(X_train)\n",
    "    X_test_scaled = scaler.transform(X_test)\n",
    "    return X_train_scaled, X_test_scaled\n",
    "\n",
    "# Define a function for dimensionality reduction using PCA\n",
    "def dimensionality_reduction(X_train, X_test, n_components):\n",
    "    pca = PCA(n_components=n_components)\n",
    "    X_train_pca = pca.fit_transform(X_train)\n",
    "    X_test_pca = pca.transform(X_test)\n",
    "    X_train_pca = pd.DataFrame(X_train_pca)\n",
    "    X_test_pca = pd.DataFrame(X_test_pca)\n",
    "    \n",
    "    return X_train_pca, X_test_pca"
   ]
  },
  {
   "cell_type": "code",
   "execution_count": 14,
   "metadata": {},
   "outputs": [
    {
     "name": "stdout",
     "output_type": "stream",
     "text": [
      "Colonna:Eritromicina\n",
      "Modello:Logistic Regression\n",
      "Fitting 5 folds for each of 10 candidates, totalling 50 fits\n",
      "{'solver': 'liblinear', 'penalty': 'l2', 'intercept_scaling': 1, 'fit_intercept': False, 'class_weight': 'balanced', 'C': 0.03359818286283781}\n"
     ]
    },
    {
     "data": {
      "text/plain": [
       "{'Target': 'Eritromicina',\n",
       " 'Model': 'Logistic Regression_PCA',\n",
       " 'Accuracy': 0.6451612903225806,\n",
       " 'Precision': 0.4162330905306972,\n",
       " 'Recall': 0.6451612903225806,\n",
       " 'F1-Score': 0.5060088551549652,\n",
       " 'CV': 0.512}"
      ]
     },
     "metadata": {},
     "output_type": "display_data"
    },
    {
     "name": "stdout",
     "output_type": "stream",
     "text": [
      "Fitting 5 folds for each of 10 candidates, totalling 50 fits\n",
      "{'solver': 'liblinear', 'penalty': 'l1', 'intercept_scaling': 1, 'fit_intercept': False, 'class_weight': None, 'C': 545.5594781168514}\n"
     ]
    },
    {
     "data": {
      "text/plain": [
       "{'Target': 'Eritromicina',\n",
       " 'Model': 'Logistic Regression_Best_PCA',\n",
       " 'Accuracy': 0.7096774193548387,\n",
       " 'Precision': 0.7926661152467604,\n",
       " 'Recall': 0.7096774193548387,\n",
       " 'F1-Score': 0.7139245626453636,\n",
       " 'CV': 0.5933333333333333}"
      ]
     },
     "metadata": {},
     "output_type": "display_data"
    },
    {
     "name": "stdout",
     "output_type": "stream",
     "text": [
      "Modello:Decision Tree\n",
      "Fitting 5 folds for each of 10 candidates, totalling 50 fits\n",
      "{'min_samples_split': 9, 'max_depth': 8, 'class_weight': None}\n"
     ]
    },
    {
     "data": {
      "text/plain": [
       "{'Target': 'Eritromicina',\n",
       " 'Model': 'Decision Tree_PCA',\n",
       " 'Accuracy': 0.6129032258064516,\n",
       " 'Precision': 0.6494623655913978,\n",
       " 'Recall': 0.6129032258064516,\n",
       " 'F1-Score': 0.6211745244003308,\n",
       " 'CV': 0.5536666666666668}"
      ]
     },
     "metadata": {},
     "output_type": "display_data"
    },
    {
     "name": "stdout",
     "output_type": "stream",
     "text": [
      "Fitting 5 folds for each of 10 candidates, totalling 50 fits\n",
      "{'min_samples_split': 14, 'max_depth': 11, 'class_weight': None}\n"
     ]
    },
    {
     "data": {
      "text/plain": [
       "{'Target': 'Eritromicina',\n",
       " 'Model': 'Decision Tree_Best_PCA',\n",
       " 'Accuracy': 0.6129032258064516,\n",
       " 'Precision': 0.7057159026598755,\n",
       " 'Recall': 0.6129032258064516,\n",
       " 'F1-Score': 0.6161290322580646,\n",
       " 'CV': 0.6100000000000001}"
      ]
     },
     "metadata": {},
     "output_type": "display_data"
    },
    {
     "name": "stdout",
     "output_type": "stream",
     "text": [
      "Modello:K-nn\n",
      "Fitting 5 folds for each of 10 candidates, totalling 50 fits\n",
      "{'weights': 'uniform', 'n_neighbors': 14, 'algorithm': 'kd_tree'}\n"
     ]
    },
    {
     "data": {
      "text/plain": [
       "{'Target': 'Eritromicina',\n",
       " 'Model': 'K-nn_PCA',\n",
       " 'Accuracy': 0.4838709677419355,\n",
       " 'Precision': 0.5034463744141164,\n",
       " 'Recall': 0.4838709677419355,\n",
       " 'F1-Score': 0.4917940011318619,\n",
       " 'CV': 0.5116666666666667}"
      ]
     },
     "metadata": {},
     "output_type": "display_data"
    },
    {
     "name": "stdout",
     "output_type": "stream",
     "text": [
      "Fitting 5 folds for each of 10 candidates, totalling 50 fits\n",
      "{'weights': 'distance', 'n_neighbors': 1, 'algorithm': 'brute'}\n"
     ]
    },
    {
     "data": {
      "text/plain": [
       "{'Target': 'Eritromicina',\n",
       " 'Model': 'K-nn_Best_PCA',\n",
       " 'Accuracy': 0.6451612903225806,\n",
       " 'Precision': 0.6707779886148008,\n",
       " 'Recall': 0.6451612903225806,\n",
       " 'F1-Score': 0.6520662598081952,\n",
       " 'CV': 0.5843333333333333}"
      ]
     },
     "metadata": {},
     "output_type": "display_data"
    },
    {
     "name": "stdout",
     "output_type": "stream",
     "text": [
      "Modello:Random Forest\n",
      "Fitting 5 folds for each of 10 candidates, totalling 50 fits\n",
      "{'n_estimators': 48, 'min_samples_split': 7, 'max_depth': 12, 'criterion': 'entropy', 'class_weight': 'balanced'}\n"
     ]
    },
    {
     "data": {
      "text/plain": [
       "{'Target': 'Eritromicina',\n",
       " 'Model': 'Random Forest_PCA',\n",
       " 'Accuracy': 0.6129032258064516,\n",
       " 'Precision': 0.6494623655913978,\n",
       " 'Recall': 0.6129032258064516,\n",
       " 'F1-Score': 0.6211745244003308,\n",
       " 'CV': 0.528}"
      ]
     },
     "metadata": {},
     "output_type": "display_data"
    },
    {
     "name": "stdout",
     "output_type": "stream",
     "text": [
      "Fitting 5 folds for each of 10 candidates, totalling 50 fits\n",
      "{'n_estimators': 87, 'min_samples_split': 3, 'max_depth': 7, 'criterion': 'gini', 'class_weight': None}\n"
     ]
    },
    {
     "data": {
      "text/plain": [
       "{'Target': 'Eritromicina',\n",
       " 'Model': 'Random Forest_Best_PCA',\n",
       " 'Accuracy': 0.6774193548387096,\n",
       " 'Precision': 0.74085117918135,\n",
       " 'Recall': 0.6774193548387096,\n",
       " 'F1-Score': 0.6835185687178096,\n",
       " 'CV': 0.5693333333333334}"
      ]
     },
     "metadata": {},
     "output_type": "display_data"
    },
    {
     "name": "stdout",
     "output_type": "stream",
     "text": [
      "Colonna:Tetraciclina\n",
      "Modello:Logistic Regression\n",
      "Fitting 5 folds for each of 10 candidates, totalling 50 fits\n",
      "{'solver': 'lbfgs', 'penalty': 'none', 'intercept_scaling': 0.5, 'fit_intercept': True, 'class_weight': 'balanced', 'C': 0.012742749857031334}\n"
     ]
    },
    {
     "data": {
      "text/plain": [
       "{'Target': 'Tetraciclina',\n",
       " 'Model': 'Logistic Regression_PCA',\n",
       " 'Accuracy': 0.3548387096774194,\n",
       " 'Precision': 0.1259105098855359,\n",
       " 'Recall': 0.3548387096774194,\n",
       " 'F1-Score': 0.1858678955453149,\n",
       " 'CV': 0.512}"
      ]
     },
     "metadata": {},
     "output_type": "display_data"
    },
    {
     "name": "stdout",
     "output_type": "stream",
     "text": [
      "Fitting 5 folds for each of 10 candidates, totalling 50 fits\n",
      "{'solver': 'liblinear', 'penalty': 'l2', 'intercept_scaling': 2, 'fit_intercept': False, 'class_weight': None, 'C': 206.913808111479}\n"
     ]
    },
    {
     "data": {
      "text/plain": [
       "{'Target': 'Tetraciclina',\n",
       " 'Model': 'Logistic Regression_Best_PCA',\n",
       " 'Accuracy': 0.7419354838709677,\n",
       " 'Precision': 0.7419354838709677,\n",
       " 'Recall': 0.7419354838709677,\n",
       " 'F1-Score': 0.7419354838709679,\n",
       " 'CV': 0.6413333333333333}"
      ]
     },
     "metadata": {},
     "output_type": "display_data"
    },
    {
     "name": "stdout",
     "output_type": "stream",
     "text": [
      "Modello:Decision Tree\n",
      "Fitting 5 folds for each of 10 candidates, totalling 50 fits\n",
      "{'min_samples_split': 4, 'max_depth': 7, 'class_weight': None}\n"
     ]
    },
    {
     "data": {
      "text/plain": [
       "{'Target': 'Tetraciclina',\n",
       " 'Model': 'Decision Tree_PCA',\n",
       " 'Accuracy': 0.6129032258064516,\n",
       " 'Precision': 0.6297215329473395,\n",
       " 'Recall': 0.6129032258064516,\n",
       " 'F1-Score': 0.6188455008488963,\n",
       " 'CV': 0.6096666666666666}"
      ]
     },
     "metadata": {},
     "output_type": "display_data"
    },
    {
     "name": "stdout",
     "output_type": "stream",
     "text": [
      "Fitting 5 folds for each of 10 candidates, totalling 50 fits\n",
      "{'min_samples_split': 13, 'max_depth': 1, 'class_weight': None}\n"
     ]
    },
    {
     "data": {
      "text/plain": [
       "{'Target': 'Tetraciclina',\n",
       " 'Model': 'Decision Tree_Best_PCA',\n",
       " 'Accuracy': 0.5483870967741935,\n",
       " 'Precision': 0.8012903225806451,\n",
       " 'Recall': 0.5483870967741935,\n",
       " 'F1-Score': 0.5146126275158533,\n",
       " 'CV': 0.6900000000000001}"
      ]
     },
     "metadata": {},
     "output_type": "display_data"
    },
    {
     "name": "stdout",
     "output_type": "stream",
     "text": [
      "Modello:K-nn\n",
      "Fitting 5 folds for each of 10 candidates, totalling 50 fits\n",
      "{'weights': 'distance', 'n_neighbors': 3, 'algorithm': 'ball_tree'}\n"
     ]
    },
    {
     "data": {
      "text/plain": [
       "{'Target': 'Tetraciclina',\n",
       " 'Model': 'K-nn_PCA',\n",
       " 'Accuracy': 0.6774193548387096,\n",
       " 'Precision': 0.74085117918135,\n",
       " 'Recall': 0.6774193548387096,\n",
       " 'F1-Score': 0.6835185687178096,\n",
       " 'CV': 0.6743333333333335}"
      ]
     },
     "metadata": {},
     "output_type": "display_data"
    },
    {
     "name": "stdout",
     "output_type": "stream",
     "text": [
      "Fitting 5 folds for each of 10 candidates, totalling 50 fits\n",
      "{'weights': 'distance', 'n_neighbors': 10, 'algorithm': 'ball_tree'}\n"
     ]
    },
    {
     "data": {
      "text/plain": [
       "{'Target': 'Tetraciclina',\n",
       " 'Model': 'K-nn_Best_PCA',\n",
       " 'Accuracy': 0.6451612903225806,\n",
       " 'Precision': 0.7233250620347395,\n",
       " 'Recall': 0.6451612903225806,\n",
       " 'F1-Score': 0.6503522432332222,\n",
       " 'CV': 0.6736666666666667}"
      ]
     },
     "metadata": {},
     "output_type": "display_data"
    },
    {
     "name": "stdout",
     "output_type": "stream",
     "text": [
      "Modello:Random Forest\n",
      "Fitting 5 folds for each of 10 candidates, totalling 50 fits\n",
      "{'n_estimators': 53, 'min_samples_split': 2, 'max_depth': 10, 'criterion': 'entropy', 'class_weight': 'balanced'}\n"
     ]
    },
    {
     "data": {
      "text/plain": [
       "{'Target': 'Tetraciclina',\n",
       " 'Model': 'Random Forest_PCA',\n",
       " 'Accuracy': 0.6451612903225806,\n",
       " 'Precision': 0.6707779886148008,\n",
       " 'Recall': 0.6451612903225806,\n",
       " 'F1-Score': 0.6520662598081952,\n",
       " 'CV': 0.6743333333333333}"
      ]
     },
     "metadata": {},
     "output_type": "display_data"
    },
    {
     "name": "stdout",
     "output_type": "stream",
     "text": [
      "Fitting 5 folds for each of 10 candidates, totalling 50 fits\n",
      "{'n_estimators': 39, 'min_samples_split': 10, 'max_depth': 10, 'criterion': 'entropy', 'class_weight': None}\n"
     ]
    },
    {
     "data": {
      "text/plain": [
       "{'Target': 'Tetraciclina',\n",
       " 'Model': 'Random Forest_Best_PCA',\n",
       " 'Accuracy': 0.6129032258064516,\n",
       " 'Precision': 0.6297215329473395,\n",
       " 'Recall': 0.6129032258064516,\n",
       " 'F1-Score': 0.6188455008488963,\n",
       " 'CV': 0.683}"
      ]
     },
     "metadata": {},
     "output_type": "display_data"
    },
    {
     "name": "stdout",
     "output_type": "stream",
     "text": [
      "Colonna:Gentamicina\n",
      "Modello:Logistic Regression\n",
      "Fitting 5 folds for each of 10 candidates, totalling 50 fits\n",
      "{'solver': 'saga', 'penalty': 'none', 'intercept_scaling': 1, 'fit_intercept': False, 'class_weight': None, 'C': 4.281332398719396}\n"
     ]
    },
    {
     "data": {
      "text/plain": [
       "{'Target': 'Gentamicina',\n",
       " 'Model': 'Logistic Regression_PCA',\n",
       " 'Accuracy': 0.5483870967741935,\n",
       " 'Precision': 0.3007284079084287,\n",
       " 'Recall': 0.5483870967741935,\n",
       " 'F1-Score': 0.38844086021505375,\n",
       " 'CV': 0.6423333333333333}"
      ]
     },
     "metadata": {},
     "output_type": "display_data"
    },
    {
     "name": "stdout",
     "output_type": "stream",
     "text": [
      "Fitting 5 folds for each of 10 candidates, totalling 50 fits\n",
      "{'solver': 'liblinear', 'penalty': 'l1', 'intercept_scaling': 1, 'fit_intercept': True, 'class_weight': 'balanced', 'C': 10000.0}\n"
     ]
    },
    {
     "data": {
      "text/plain": [
       "{'Target': 'Gentamicina',\n",
       " 'Model': 'Logistic Regression_Best_PCA',\n",
       " 'Accuracy': 0.6451612903225806,\n",
       " 'Precision': 0.6727504244482173,\n",
       " 'Recall': 0.6451612903225806,\n",
       " 'F1-Score': 0.6414534668149797,\n",
       " 'CV': 0.651}"
      ]
     },
     "metadata": {},
     "output_type": "display_data"
    },
    {
     "name": "stdout",
     "output_type": "stream",
     "text": [
      "Modello:Decision Tree\n",
      "Fitting 5 folds for each of 10 candidates, totalling 50 fits\n",
      "{'min_samples_split': 7, 'max_depth': 4, 'class_weight': None}\n"
     ]
    },
    {
     "data": {
      "text/plain": [
       "{'Target': 'Gentamicina',\n",
       " 'Model': 'Decision Tree_PCA',\n",
       " 'Accuracy': 0.45161290322580644,\n",
       " 'Precision': 0.4548387096774194,\n",
       " 'Recall': 0.45161290322580644,\n",
       " 'F1-Score': 0.4527589577645195,\n",
       " 'CV': 0.626}"
      ]
     },
     "metadata": {},
     "output_type": "display_data"
    },
    {
     "name": "stdout",
     "output_type": "stream",
     "text": [
      "Fitting 5 folds for each of 10 candidates, totalling 50 fits\n",
      "{'min_samples_split': 7, 'max_depth': 4, 'class_weight': None}\n"
     ]
    },
    {
     "data": {
      "text/plain": [
       "{'Target': 'Gentamicina',\n",
       " 'Model': 'Decision Tree_Best_PCA',\n",
       " 'Accuracy': 0.5161290322580645,\n",
       " 'Precision': 0.49983708048224174,\n",
       " 'Recall': 0.5161290322580645,\n",
       " 'F1-Score': 0.4945517315783795,\n",
       " 'CV': 0.659}"
      ]
     },
     "metadata": {},
     "output_type": "display_data"
    },
    {
     "name": "stdout",
     "output_type": "stream",
     "text": [
      "Modello:K-nn\n",
      "Fitting 5 folds for each of 10 candidates, totalling 50 fits\n",
      "{'weights': 'uniform', 'n_neighbors': 12, 'algorithm': 'auto'}\n"
     ]
    },
    {
     "data": {
      "text/plain": [
       "{'Target': 'Gentamicina',\n",
       " 'Model': 'K-nn_PCA',\n",
       " 'Accuracy': 0.6129032258064516,\n",
       " 'Precision': 0.6097906055461234,\n",
       " 'Recall': 0.6129032258064516,\n",
       " 'F1-Score': 0.608767576509512,\n",
       " 'CV': 0.6186666666666667}"
      ]
     },
     "metadata": {},
     "output_type": "display_data"
    },
    {
     "name": "stdout",
     "output_type": "stream",
     "text": [
      "Fitting 5 folds for each of 10 candidates, totalling 50 fits\n",
      "{'weights': 'uniform', 'n_neighbors': 13, 'algorithm': 'auto'}\n"
     ]
    },
    {
     "data": {
      "text/plain": [
       "{'Target': 'Gentamicina',\n",
       " 'Model': 'K-nn_Best_PCA',\n",
       " 'Accuracy': 0.7096774193548387,\n",
       " 'Precision': 0.7123167155425218,\n",
       " 'Recall': 0.7096774193548387,\n",
       " 'F1-Score': 0.7040278988666085,\n",
       " 'CV': 0.6676666666666666}"
      ]
     },
     "metadata": {},
     "output_type": "display_data"
    },
    {
     "name": "stdout",
     "output_type": "stream",
     "text": [
      "Modello:Random Forest\n",
      "Fitting 5 folds for each of 10 candidates, totalling 50 fits\n",
      "{'n_estimators': 77, 'min_samples_split': 13, 'max_depth': 13, 'criterion': 'entropy', 'class_weight': None}\n"
     ]
    },
    {
     "data": {
      "text/plain": [
       "{'Target': 'Gentamicina',\n",
       " 'Model': 'Random Forest_PCA',\n",
       " 'Accuracy': 0.5483870967741935,\n",
       " 'Precision': 0.5483870967741935,\n",
       " 'Recall': 0.5483870967741935,\n",
       " 'F1-Score': 0.5483870967741935,\n",
       " 'CV': 0.6663333333333334}"
      ]
     },
     "metadata": {},
     "output_type": "display_data"
    },
    {
     "name": "stdout",
     "output_type": "stream",
     "text": [
      "Fitting 5 folds for each of 10 candidates, totalling 50 fits\n",
      "{'n_estimators': 60, 'min_samples_split': 4, 'max_depth': 5, 'criterion': 'entropy', 'class_weight': None}\n"
     ]
    },
    {
     "data": {
      "text/plain": [
       "{'Target': 'Gentamicina',\n",
       " 'Model': 'Random Forest_Best_PCA',\n",
       " 'Accuracy': 0.5806451612903226,\n",
       " 'Precision': 0.5783016266887234,\n",
       " 'Recall': 0.5806451612903226,\n",
       " 'F1-Score': 0.5788701143539854,\n",
       " 'CV': 0.6910000000000001}"
      ]
     },
     "metadata": {},
     "output_type": "display_data"
    },
    {
     "name": "stdout",
     "output_type": "stream",
     "text": [
      "Colonna:Clindamicina\n",
      "Modello:Logistic Regression\n",
      "Fitting 5 folds for each of 10 candidates, totalling 50 fits\n",
      "{'solver': 'lbfgs', 'penalty': 'none', 'intercept_scaling': 0.5, 'fit_intercept': True, 'class_weight': None, 'C': 4.281332398719396}\n"
     ]
    },
    {
     "data": {
      "text/plain": [
       "{'Target': 'Clindamicina',\n",
       " 'Model': 'Logistic Regression_PCA',\n",
       " 'Accuracy': 0.6774193548387096,\n",
       " 'Precision': 0.4588969823100936,\n",
       " 'Recall': 0.6774193548387096,\n",
       " 'F1-Score': 0.5471464019851118,\n",
       " 'CV': 0.748}"
      ]
     },
     "metadata": {},
     "output_type": "display_data"
    },
    {
     "name": "stdout",
     "output_type": "stream",
     "text": [
      "Fitting 5 folds for each of 10 candidates, totalling 50 fits\n",
      "{'solver': 'saga', 'penalty': 'l2', 'intercept_scaling': 0.5, 'fit_intercept': True, 'class_weight': 'balanced', 'C': 78.47599703514607}\n"
     ]
    },
    {
     "data": {
      "text/plain": [
       "{'Target': 'Clindamicina',\n",
       " 'Model': 'Logistic Regression_Best_PCA',\n",
       " 'Accuracy': 0.7096774193548387,\n",
       " 'Precision': 0.6923963133640554,\n",
       " 'Recall': 0.7096774193548387,\n",
       " 'F1-Score': 0.6937381404174573,\n",
       " 'CV': 0.8046666666666666}"
      ]
     },
     "metadata": {},
     "output_type": "display_data"
    },
    {
     "name": "stdout",
     "output_type": "stream",
     "text": [
      "Modello:Decision Tree\n",
      "Fitting 5 folds for each of 10 candidates, totalling 50 fits\n",
      "{'min_samples_split': 2, 'max_depth': 7, 'class_weight': 'balanced'}\n"
     ]
    },
    {
     "data": {
      "text/plain": [
       "{'Target': 'Clindamicina',\n",
       " 'Model': 'Decision Tree_PCA',\n",
       " 'Accuracy': 0.7741935483870968,\n",
       " 'Precision': 0.7667050691244239,\n",
       " 'Recall': 0.7741935483870968,\n",
       " 'F1-Score': 0.7617963314358002,\n",
       " 'CV': 0.7136666666666668}"
      ]
     },
     "metadata": {},
     "output_type": "display_data"
    },
    {
     "name": "stdout",
     "output_type": "stream",
     "text": [
      "Fitting 5 folds for each of 10 candidates, totalling 50 fits\n",
      "{'min_samples_split': 4, 'max_depth': 1, 'class_weight': 'balanced'}\n"
     ]
    },
    {
     "data": {
      "text/plain": [
       "{'Target': 'Clindamicina',\n",
       " 'Model': 'Decision Tree_Best_PCA',\n",
       " 'Accuracy': 0.7741935483870968,\n",
       " 'Precision': 0.7667050691244239,\n",
       " 'Recall': 0.7741935483870968,\n",
       " 'F1-Score': 0.7617963314358002,\n",
       " 'CV': 0.8783333333333333}"
      ]
     },
     "metadata": {},
     "output_type": "display_data"
    },
    {
     "name": "stdout",
     "output_type": "stream",
     "text": [
      "Modello:K-nn\n",
      "Fitting 5 folds for each of 10 candidates, totalling 50 fits\n",
      "{'weights': 'distance', 'n_neighbors': 10, 'algorithm': 'kd_tree'}\n"
     ]
    },
    {
     "data": {
      "text/plain": [
       "{'Target': 'Clindamicina',\n",
       " 'Model': 'K-nn_PCA',\n",
       " 'Accuracy': 0.7096774193548387,\n",
       " 'Precision': 0.6923963133640554,\n",
       " 'Recall': 0.7096774193548387,\n",
       " 'F1-Score': 0.6937381404174573,\n",
       " 'CV': 0.8859999999999999}"
      ]
     },
     "metadata": {},
     "output_type": "display_data"
    },
    {
     "name": "stdout",
     "output_type": "stream",
     "text": [
      "Fitting 5 folds for each of 10 candidates, totalling 50 fits\n",
      "{'weights': 'distance', 'n_neighbors': 13, 'algorithm': 'brute'}\n"
     ]
    },
    {
     "data": {
      "text/plain": [
       "{'Target': 'Clindamicina',\n",
       " 'Model': 'K-nn_Best_PCA',\n",
       " 'Accuracy': 0.7419354838709677,\n",
       " 'Precision': 0.7437275985663083,\n",
       " 'Recall': 0.7419354838709677,\n",
       " 'F1-Score': 0.7027649769585254,\n",
       " 'CV': 0.8939999999999999}"
      ]
     },
     "metadata": {},
     "output_type": "display_data"
    },
    {
     "name": "stdout",
     "output_type": "stream",
     "text": [
      "Modello:Random Forest\n",
      "Fitting 5 folds for each of 10 candidates, totalling 50 fits\n",
      "{'n_estimators': 62, 'min_samples_split': 13, 'max_depth': 5, 'criterion': 'entropy', 'class_weight': 'balanced'}\n"
     ]
    },
    {
     "data": {
      "text/plain": [
       "{'Target': 'Clindamicina',\n",
       " 'Model': 'Random Forest_PCA',\n",
       " 'Accuracy': 0.7741935483870968,\n",
       " 'Precision': 0.7791563275434243,\n",
       " 'Recall': 0.7741935483870968,\n",
       " 'F1-Score': 0.7485701212537176,\n",
       " 'CV': 0.8696666666666667}"
      ]
     },
     "metadata": {},
     "output_type": "display_data"
    },
    {
     "name": "stdout",
     "output_type": "stream",
     "text": [
      "Fitting 5 folds for each of 10 candidates, totalling 50 fits\n",
      "{'n_estimators': 75, 'min_samples_split': 4, 'max_depth': 14, 'criterion': 'entropy', 'class_weight': None}\n"
     ]
    },
    {
     "data": {
      "text/plain": [
       "{'Target': 'Clindamicina',\n",
       " 'Model': 'Random Forest_Best_PCA',\n",
       " 'Accuracy': 0.7741935483870968,\n",
       " 'Precision': 0.7667050691244239,\n",
       " 'Recall': 0.7741935483870968,\n",
       " 'F1-Score': 0.7617963314358002,\n",
       " 'CV': 0.8780000000000001}"
      ]
     },
     "metadata": {},
     "output_type": "display_data"
    },
    {
     "name": "stdout",
     "output_type": "stream",
     "text": [
      "Colonna:Enrofloxacin\n",
      "Modello:Logistic Regression\n",
      "Fitting 5 folds for each of 10 candidates, totalling 50 fits\n",
      "{'solver': 'sag', 'penalty': 'l2', 'intercept_scaling': 1, 'fit_intercept': False, 'class_weight': None, 'C': 29.763514416313132}\n"
     ]
    },
    {
     "data": {
      "text/plain": [
       "{'Target': 'Enrofloxacin',\n",
       " 'Model': 'Logistic Regression_PCA',\n",
       " 'Accuracy': 0.6451612903225806,\n",
       " 'Precision': 0.4162330905306972,\n",
       " 'Recall': 0.6451612903225806,\n",
       " 'F1-Score': 0.5060088551549652,\n",
       " 'CV': 0.6746666666666666}"
      ]
     },
     "metadata": {},
     "output_type": "display_data"
    },
    {
     "name": "stdout",
     "output_type": "stream",
     "text": [
      "Fitting 5 folds for each of 10 candidates, totalling 50 fits\n",
      "{'solver': 'saga', 'penalty': 'l1', 'intercept_scaling': 0.5, 'fit_intercept': False, 'class_weight': 'balanced', 'C': 0.0001}\n"
     ]
    },
    {
     "data": {
      "text/plain": [
       "{'Target': 'Enrofloxacin',\n",
       " 'Model': 'Logistic Regression_Best_PCA',\n",
       " 'Accuracy': 0.6451612903225806,\n",
       " 'Precision': 0.4162330905306972,\n",
       " 'Recall': 0.6451612903225806,\n",
       " 'F1-Score': 0.5060088551549652,\n",
       " 'CV': 0.6746666666666666}"
      ]
     },
     "metadata": {},
     "output_type": "display_data"
    },
    {
     "name": "stdout",
     "output_type": "stream",
     "text": [
      "Modello:Decision Tree\n",
      "Fitting 5 folds for each of 10 candidates, totalling 50 fits\n",
      "{'min_samples_split': 4, 'max_depth': 1, 'class_weight': None}\n"
     ]
    },
    {
     "data": {
      "text/plain": [
       "{'Target': 'Enrofloxacin',\n",
       " 'Model': 'Decision Tree_PCA',\n",
       " 'Accuracy': 0.7419354838709677,\n",
       " 'Precision': 0.7419354838709677,\n",
       " 'Recall': 0.7419354838709677,\n",
       " 'F1-Score': 0.7419354838709679,\n",
       " 'CV': 0.5443333333333333}"
      ]
     },
     "metadata": {},
     "output_type": "display_data"
    },
    {
     "name": "stdout",
     "output_type": "stream",
     "text": [
      "Fitting 5 folds for each of 10 candidates, totalling 50 fits\n",
      "{'min_samples_split': 14, 'max_depth': 10, 'class_weight': None}\n"
     ]
    },
    {
     "data": {
      "text/plain": [
       "{'Target': 'Enrofloxacin',\n",
       " 'Model': 'Decision Tree_Best_PCA',\n",
       " 'Accuracy': 0.6451612903225806,\n",
       " 'Precision': 0.6382488479262672,\n",
       " 'Recall': 0.6451612903225806,\n",
       " 'F1-Score': 0.6410400509535049,\n",
       " 'CV': 0.6426666666666667}"
      ]
     },
     "metadata": {},
     "output_type": "display_data"
    },
    {
     "name": "stdout",
     "output_type": "stream",
     "text": [
      "Modello:K-nn\n",
      "Fitting 5 folds for each of 10 candidates, totalling 50 fits\n",
      "{'weights': 'distance', 'n_neighbors': 8, 'algorithm': 'kd_tree'}\n"
     ]
    },
    {
     "data": {
      "text/plain": [
       "{'Target': 'Enrofloxacin',\n",
       " 'Model': 'K-nn_PCA',\n",
       " 'Accuracy': 0.7096774193548387,\n",
       " 'Precision': 0.7010752688172042,\n",
       " 'Recall': 0.7096774193548387,\n",
       " 'F1-Score': 0.683111954459203,\n",
       " 'CV': 0.7083333333333334}"
      ]
     },
     "metadata": {},
     "output_type": "display_data"
    },
    {
     "name": "stdout",
     "output_type": "stream",
     "text": [
      "Fitting 5 folds for each of 10 candidates, totalling 50 fits\n",
      "{'weights': 'uniform', 'n_neighbors': 6, 'algorithm': 'ball_tree'}\n"
     ]
    },
    {
     "data": {
      "text/plain": [
       "{'Target': 'Enrofloxacin',\n",
       " 'Model': 'K-nn_Best_PCA',\n",
       " 'Accuracy': 0.6774193548387096,\n",
       " 'Precision': 0.674347158218126,\n",
       " 'Recall': 0.6774193548387096,\n",
       " 'F1-Score': 0.6121351766513058,\n",
       " 'CV': 0.716}"
      ]
     },
     "metadata": {},
     "output_type": "display_data"
    },
    {
     "name": "stdout",
     "output_type": "stream",
     "text": [
      "Modello:Random Forest\n",
      "Fitting 5 folds for each of 10 candidates, totalling 50 fits\n",
      "{'n_estimators': 35, 'min_samples_split': 12, 'max_depth': 7, 'criterion': 'entropy', 'class_weight': None}\n"
     ]
    },
    {
     "data": {
      "text/plain": [
       "{'Target': 'Enrofloxacin',\n",
       " 'Model': 'Random Forest_PCA',\n",
       " 'Accuracy': 0.7096774193548387,\n",
       " 'Precision': 0.7010752688172042,\n",
       " 'Recall': 0.7096774193548387,\n",
       " 'F1-Score': 0.683111954459203,\n",
       " 'CV': 0.683}"
      ]
     },
     "metadata": {},
     "output_type": "display_data"
    },
    {
     "name": "stdout",
     "output_type": "stream",
     "text": [
      "Fitting 5 folds for each of 10 candidates, totalling 50 fits\n",
      "{'n_estimators': 95, 'min_samples_split': 10, 'max_depth': 14, 'criterion': 'gini', 'class_weight': 'balanced'}\n"
     ]
    },
    {
     "data": {
      "text/plain": [
       "{'Target': 'Enrofloxacin',\n",
       " 'Model': 'Random Forest_Best_PCA',\n",
       " 'Accuracy': 0.6451612903225806,\n",
       " 'Precision': 0.626227208976157,\n",
       " 'Recall': 0.6451612903225806,\n",
       " 'F1-Score': 0.6295258025032574,\n",
       " 'CV': 0.7}"
      ]
     },
     "metadata": {},
     "output_type": "display_data"
    },
    {
     "name": "stdout",
     "output_type": "stream",
     "text": [
      "Colonna:ANT(6)-Ia\n",
      "Modello:Logistic Regression\n",
      "Fitting 5 folds for each of 10 candidates, totalling 50 fits\n",
      "{'solver': 'saga', 'penalty': 'none', 'intercept_scaling': 0.5, 'fit_intercept': True, 'class_weight': 'balanced', 'C': 0.08858667904100823}\n"
     ]
    },
    {
     "data": {
      "text/plain": [
       "{'Target': 'ANT(6)-Ia',\n",
       " 'Model': 'Logistic Regression_PCA',\n",
       " 'Accuracy': 0.8064516129032258,\n",
       " 'Precision': 0.6503642039542143,\n",
       " 'Recall': 0.8064516129032258,\n",
       " 'F1-Score': 0.7200460829493087,\n",
       " 'CV': 0.8293333333333333}"
      ]
     },
     "metadata": {},
     "output_type": "display_data"
    },
    {
     "name": "stdout",
     "output_type": "stream",
     "text": [
      "Fitting 5 folds for each of 10 candidates, totalling 50 fits\n",
      "{'solver': 'sag', 'penalty': 'none', 'intercept_scaling': 1, 'fit_intercept': True, 'class_weight': 'balanced', 'C': 1.623776739188721}\n"
     ]
    },
    {
     "data": {
      "text/plain": [
       "{'Target': 'ANT(6)-Ia',\n",
       " 'Model': 'Logistic Regression_Best_PCA',\n",
       " 'Accuracy': 0.7741935483870968,\n",
       " 'Precision': 0.7598014888337469,\n",
       " 'Recall': 0.7741935483870968,\n",
       " 'F1-Score': 0.7661434075096314,\n",
       " 'CV': 0.8696666666666667}"
      ]
     },
     "metadata": {},
     "output_type": "display_data"
    },
    {
     "name": "stdout",
     "output_type": "stream",
     "text": [
      "Modello:Decision Tree\n",
      "Fitting 5 folds for each of 10 candidates, totalling 50 fits\n",
      "{'min_samples_split': 3, 'max_depth': 1, 'class_weight': None}\n"
     ]
    },
    {
     "data": {
      "text/plain": [
       "{'Target': 'ANT(6)-Ia',\n",
       " 'Model': 'Decision Tree_PCA',\n",
       " 'Accuracy': 0.7419354838709677,\n",
       " 'Precision': 0.7419354838709677,\n",
       " 'Recall': 0.7419354838709677,\n",
       " 'F1-Score': 0.7419354838709676,\n",
       " 'CV': 0.7886666666666667}"
      ]
     },
     "metadata": {},
     "output_type": "display_data"
    },
    {
     "name": "stdout",
     "output_type": "stream",
     "text": [
      "Fitting 5 folds for each of 10 candidates, totalling 50 fits\n",
      "{'min_samples_split': 14, 'max_depth': 9, 'class_weight': None}\n"
     ]
    },
    {
     "data": {
      "text/plain": [
       "{'Target': 'ANT(6)-Ia',\n",
       " 'Model': 'Decision Tree_Best_PCA',\n",
       " 'Accuracy': 0.7419354838709677,\n",
       " 'Precision': 0.7419354838709677,\n",
       " 'Recall': 0.7419354838709677,\n",
       " 'F1-Score': 0.7419354838709676,\n",
       " 'CV': 0.8463333333333333}"
      ]
     },
     "metadata": {},
     "output_type": "display_data"
    },
    {
     "name": "stdout",
     "output_type": "stream",
     "text": [
      "Modello:K-nn\n",
      "Fitting 5 folds for each of 10 candidates, totalling 50 fits\n",
      "{'weights': 'distance', 'n_neighbors': 9, 'algorithm': 'kd_tree'}\n"
     ]
    },
    {
     "data": {
      "text/plain": [
       "{'Target': 'ANT(6)-Ia',\n",
       " 'Model': 'K-nn_PCA',\n",
       " 'Accuracy': 0.7741935483870968,\n",
       " 'Precision': 0.7269585253456221,\n",
       " 'Recall': 0.7741935483870968,\n",
       " 'F1-Score': 0.7429498884154999,\n",
       " 'CV': 0.8946666666666667}"
      ]
     },
     "metadata": {},
     "output_type": "display_data"
    },
    {
     "name": "stdout",
     "output_type": "stream",
     "text": [
      "Fitting 5 folds for each of 10 candidates, totalling 50 fits\n",
      "{'weights': 'distance', 'n_neighbors': 7, 'algorithm': 'ball_tree'}\n"
     ]
    },
    {
     "data": {
      "text/plain": [
       "{'Target': 'ANT(6)-Ia',\n",
       " 'Model': 'K-nn_Best_PCA',\n",
       " 'Accuracy': 0.7741935483870968,\n",
       " 'Precision': 0.7269585253456221,\n",
       " 'Recall': 0.7741935483870968,\n",
       " 'F1-Score': 0.7429498884154999,\n",
       " 'CV': 0.8946666666666667}"
      ]
     },
     "metadata": {},
     "output_type": "display_data"
    },
    {
     "name": "stdout",
     "output_type": "stream",
     "text": [
      "Modello:Random Forest\n",
      "Fitting 5 folds for each of 10 candidates, totalling 50 fits\n",
      "{'n_estimators': 95, 'min_samples_split': 2, 'max_depth': 2, 'criterion': 'gini', 'class_weight': None}\n"
     ]
    },
    {
     "data": {
      "text/plain": [
       "{'Target': 'ANT(6)-Ia',\n",
       " 'Model': 'Random Forest_PCA',\n",
       " 'Accuracy': 0.8064516129032258,\n",
       " 'Precision': 0.764182424916574,\n",
       " 'Recall': 0.8064516129032258,\n",
       " 'F1-Score': 0.7652329749103943,\n",
       " 'CV': 0.8373333333333333}"
      ]
     },
     "metadata": {},
     "output_type": "display_data"
    },
    {
     "name": "stdout",
     "output_type": "stream",
     "text": [
      "Fitting 5 folds for each of 10 candidates, totalling 50 fits\n",
      "{'n_estimators': 84, 'min_samples_split': 10, 'max_depth': 1, 'criterion': 'entropy', 'class_weight': 'balanced'}\n"
     ]
    },
    {
     "data": {
      "text/plain": [
       "{'Target': 'ANT(6)-Ia',\n",
       " 'Model': 'Random Forest_Best_PCA',\n",
       " 'Accuracy': 0.7419354838709677,\n",
       " 'Precision': 0.7419354838709677,\n",
       " 'Recall': 0.7419354838709677,\n",
       " 'F1-Score': 0.7419354838709676,\n",
       " 'CV': 0.8700000000000001}"
      ]
     },
     "metadata": {},
     "output_type": "display_data"
    },
    {
     "name": "stdout",
     "output_type": "stream",
     "text": [
      "Colonna:ErmB\n",
      "Modello:Logistic Regression\n",
      "Fitting 5 folds for each of 10 candidates, totalling 50 fits\n",
      "{'solver': 'liblinear', 'penalty': 'l2', 'intercept_scaling': 2, 'fit_intercept': True, 'class_weight': None, 'C': 206.913808111479}\n"
     ]
    },
    {
     "data": {
      "text/plain": [
       "{'Target': 'ErmB',\n",
       " 'Model': 'Logistic Regression_PCA',\n",
       " 'Accuracy': 0.8387096774193549,\n",
       " 'Precision': 0.7034339229968783,\n",
       " 'Recall': 0.8387096774193549,\n",
       " 'F1-Score': 0.7651386530843237,\n",
       " 'CV': 0.8133333333333335}"
      ]
     },
     "metadata": {},
     "output_type": "display_data"
    },
    {
     "name": "stdout",
     "output_type": "stream",
     "text": [
      "Fitting 5 folds for each of 10 candidates, totalling 50 fits\n",
      "{'solver': 'lbfgs', 'penalty': 'l2', 'intercept_scaling': 0.5, 'fit_intercept': True, 'class_weight': None, 'C': 0.615848211066026}\n"
     ]
    },
    {
     "data": {
      "text/plain": [
       "{'Target': 'ErmB',\n",
       " 'Model': 'Logistic Regression_Best_PCA',\n",
       " 'Accuracy': 0.8387096774193549,\n",
       " 'Precision': 0.7034339229968783,\n",
       " 'Recall': 0.8387096774193549,\n",
       " 'F1-Score': 0.7651386530843237,\n",
       " 'CV': 0.8133333333333335}"
      ]
     },
     "metadata": {},
     "output_type": "display_data"
    },
    {
     "name": "stdout",
     "output_type": "stream",
     "text": [
      "Modello:Decision Tree\n",
      "Fitting 5 folds for each of 10 candidates, totalling 50 fits\n",
      "{'min_samples_split': 9, 'max_depth': 1, 'class_weight': None}\n"
     ]
    },
    {
     "data": {
      "text/plain": [
       "{'Target': 'ErmB',\n",
       " 'Model': 'Decision Tree_PCA',\n",
       " 'Accuracy': 0.8387096774193549,\n",
       " 'Precision': 0.8261648745519713,\n",
       " 'Recall': 0.8387096774193549,\n",
       " 'F1-Score': 0.8312707107594509,\n",
       " 'CV': 0.8213333333333335}"
      ]
     },
     "metadata": {},
     "output_type": "display_data"
    },
    {
     "name": "stdout",
     "output_type": "stream",
     "text": [
      "Fitting 5 folds for each of 10 candidates, totalling 50 fits\n",
      "{'min_samples_split': 9, 'max_depth': 8, 'class_weight': None}\n"
     ]
    },
    {
     "data": {
      "text/plain": [
       "{'Target': 'ErmB',\n",
       " 'Model': 'Decision Tree_Best_PCA',\n",
       " 'Accuracy': 0.8709677419354839,\n",
       " 'Precision': 0.8709677419354839,\n",
       " 'Recall': 0.8709677419354839,\n",
       " 'F1-Score': 0.8709677419354839,\n",
       " 'CV': 0.8370000000000001}"
      ]
     },
     "metadata": {},
     "output_type": "display_data"
    },
    {
     "name": "stdout",
     "output_type": "stream",
     "text": [
      "Modello:K-nn\n",
      "Fitting 5 folds for each of 10 candidates, totalling 50 fits\n",
      "{'weights': 'distance', 'n_neighbors': 8, 'algorithm': 'brute'}\n"
     ]
    },
    {
     "data": {
      "text/plain": [
       "{'Target': 'ErmB',\n",
       " 'Model': 'K-nn_PCA',\n",
       " 'Accuracy': 0.7419354838709677,\n",
       " 'Precision': 0.6889400921658987,\n",
       " 'Recall': 0.7419354838709677,\n",
       " 'F1-Score': 0.7144563918757467,\n",
       " 'CV': 0.8460000000000001}"
      ]
     },
     "metadata": {},
     "output_type": "display_data"
    },
    {
     "name": "stdout",
     "output_type": "stream",
     "text": [
      "Fitting 5 folds for each of 10 candidates, totalling 50 fits\n",
      "{'weights': 'distance', 'n_neighbors': 9, 'algorithm': 'ball_tree'}\n"
     ]
    },
    {
     "data": {
      "text/plain": [
       "{'Target': 'ErmB',\n",
       " 'Model': 'K-nn_Best_PCA',\n",
       " 'Accuracy': 0.7419354838709677,\n",
       " 'Precision': 0.6889400921658987,\n",
       " 'Recall': 0.7419354838709677,\n",
       " 'F1-Score': 0.7144563918757467,\n",
       " 'CV': 0.8623333333333333}"
      ]
     },
     "metadata": {},
     "output_type": "display_data"
    },
    {
     "name": "stdout",
     "output_type": "stream",
     "text": [
      "Modello:Random Forest\n",
      "Fitting 5 folds for each of 10 candidates, totalling 50 fits\n",
      "{'n_estimators': 43, 'min_samples_split': 12, 'max_depth': 2, 'criterion': 'entropy', 'class_weight': 'balanced'}\n"
     ]
    },
    {
     "data": {
      "text/plain": [
       "{'Target': 'ErmB',\n",
       " 'Model': 'Random Forest_PCA',\n",
       " 'Accuracy': 0.8387096774193549,\n",
       " 'Precision': 0.8261648745519713,\n",
       " 'Recall': 0.8387096774193549,\n",
       " 'F1-Score': 0.8312707107594509,\n",
       " 'CV': 0.8296666666666667}"
      ]
     },
     "metadata": {},
     "output_type": "display_data"
    },
    {
     "name": "stdout",
     "output_type": "stream",
     "text": [
      "Fitting 5 folds for each of 10 candidates, totalling 50 fits\n",
      "{'n_estimators': 13, 'min_samples_split': 13, 'max_depth': 2, 'criterion': 'entropy', 'class_weight': 'balanced'}\n"
     ]
    },
    {
     "data": {
      "text/plain": [
       "{'Target': 'ErmB',\n",
       " 'Model': 'Random Forest_Best_PCA',\n",
       " 'Accuracy': 0.8387096774193549,\n",
       " 'Precision': 0.8522580645161291,\n",
       " 'Recall': 0.8387096774193549,\n",
       " 'F1-Score': 0.8444597780461158,\n",
       " 'CV': 0.8623333333333333}"
      ]
     },
     "metadata": {},
     "output_type": "display_data"
    },
    {
     "name": "stdout",
     "output_type": "stream",
     "text": [
      "Colonna:lsaE\n",
      "Modello:Logistic Regression\n",
      "Fitting 5 folds for each of 10 candidates, totalling 50 fits\n",
      "{'solver': 'saga', 'penalty': 'none', 'intercept_scaling': 1, 'fit_intercept': False, 'class_weight': 'balanced', 'C': 0.004832930238571752}\n"
     ]
    },
    {
     "data": {
      "text/plain": [
       "{'Target': 'lsaE',\n",
       " 'Model': 'Logistic Regression_PCA',\n",
       " 'Accuracy': 0.7419354838709677,\n",
       " 'Precision': 0.5504682622268471,\n",
       " 'Recall': 0.7419354838709677,\n",
       " 'F1-Score': 0.6320191158900836,\n",
       " 'CV': 0.7966666666666666}"
      ]
     },
     "metadata": {},
     "output_type": "display_data"
    },
    {
     "name": "stdout",
     "output_type": "stream",
     "text": [
      "Fitting 5 folds for each of 10 candidates, totalling 50 fits\n",
      "{'solver': 'sag', 'penalty': 'none', 'intercept_scaling': 2, 'fit_intercept': True, 'class_weight': 'balanced', 'C': 0.0001}\n"
     ]
    },
    {
     "data": {
      "text/plain": [
       "{'Target': 'lsaE',\n",
       " 'Model': 'Logistic Regression_Best_PCA',\n",
       " 'Accuracy': 0.7419354838709677,\n",
       " 'Precision': 0.7225806451612904,\n",
       " 'Recall': 0.7419354838709677,\n",
       " 'F1-Score': 0.7288786482334868,\n",
       " 'CV': 0.8936666666666666}"
      ]
     },
     "metadata": {},
     "output_type": "display_data"
    },
    {
     "name": "stdout",
     "output_type": "stream",
     "text": [
      "Modello:Decision Tree\n",
      "Fitting 5 folds for each of 10 candidates, totalling 50 fits\n",
      "{'min_samples_split': 9, 'max_depth': 14, 'class_weight': None}\n"
     ]
    },
    {
     "data": {
      "text/plain": [
       "{'Target': 'lsaE',\n",
       " 'Model': 'Decision Tree_PCA',\n",
       " 'Accuracy': 0.8064516129032258,\n",
       " 'Precision': 0.7980884109916367,\n",
       " 'Recall': 0.8064516129032258,\n",
       " 'F1-Score': 0.7819354838709678,\n",
       " 'CV': 0.8283333333333334}"
      ]
     },
     "metadata": {},
     "output_type": "display_data"
    },
    {
     "name": "stdout",
     "output_type": "stream",
     "text": [
      "Fitting 5 folds for each of 10 candidates, totalling 50 fits\n",
      "{'min_samples_split': 3, 'max_depth': 1, 'class_weight': 'balanced'}\n"
     ]
    },
    {
     "data": {
      "text/plain": [
       "{'Target': 'lsaE',\n",
       " 'Model': 'Decision Tree_Best_PCA',\n",
       " 'Accuracy': 0.7741935483870968,\n",
       " 'Precision': 0.7540942928039702,\n",
       " 'Recall': 0.7741935483870968,\n",
       " 'F1-Score': 0.7550514002126906,\n",
       " 'CV': 0.8856666666666666}"
      ]
     },
     "metadata": {},
     "output_type": "display_data"
    },
    {
     "name": "stdout",
     "output_type": "stream",
     "text": [
      "Modello:K-nn\n",
      "Fitting 5 folds for each of 10 candidates, totalling 50 fits\n",
      "{'weights': 'distance', 'n_neighbors': 3, 'algorithm': 'ball_tree'}\n"
     ]
    },
    {
     "data": {
      "text/plain": [
       "{'Target': 'lsaE',\n",
       " 'Model': 'K-nn_PCA',\n",
       " 'Accuracy': 0.7096774193548387,\n",
       " 'Precision': 0.6979646697388632,\n",
       " 'Recall': 0.7096774193548387,\n",
       " 'F1-Score': 0.7030885380919698,\n",
       " 'CV': 0.9346666666666665}"
      ]
     },
     "metadata": {},
     "output_type": "display_data"
    },
    {
     "name": "stdout",
     "output_type": "stream",
     "text": [
      "Fitting 5 folds for each of 10 candidates, totalling 50 fits\n",
      "{'weights': 'uniform', 'n_neighbors': 5, 'algorithm': 'kd_tree'}\n"
     ]
    },
    {
     "data": {
      "text/plain": [
       "{'Target': 'lsaE',\n",
       " 'Model': 'K-nn_Best_PCA',\n",
       " 'Accuracy': 0.7096774193548387,\n",
       " 'Precision': 0.6979646697388632,\n",
       " 'Recall': 0.7096774193548387,\n",
       " 'F1-Score': 0.7030885380919698,\n",
       " 'CV': 0.9346666666666665}"
      ]
     },
     "metadata": {},
     "output_type": "display_data"
    },
    {
     "name": "stdout",
     "output_type": "stream",
     "text": [
      "Modello:Random Forest\n",
      "Fitting 5 folds for each of 10 candidates, totalling 50 fits\n",
      "{'n_estimators': 80, 'min_samples_split': 3, 'max_depth': 10, 'criterion': 'gini', 'class_weight': None}\n"
     ]
    },
    {
     "data": {
      "text/plain": [
       "{'Target': 'lsaE',\n",
       " 'Model': 'Random Forest_PCA',\n",
       " 'Accuracy': 0.7741935483870968,\n",
       " 'Precision': 0.7540942928039702,\n",
       " 'Recall': 0.7741935483870968,\n",
       " 'F1-Score': 0.7550514002126906,\n",
       " 'CV': 0.9186666666666665}"
      ]
     },
     "metadata": {},
     "output_type": "display_data"
    },
    {
     "name": "stdout",
     "output_type": "stream",
     "text": [
      "Fitting 5 folds for each of 10 candidates, totalling 50 fits\n",
      "{'n_estimators': 66, 'min_samples_split': 4, 'max_depth': 7, 'criterion': 'gini', 'class_weight': None}\n"
     ]
    },
    {
     "data": {
      "text/plain": [
       "{'Target': 'lsaE',\n",
       " 'Model': 'Random Forest_Best_PCA',\n",
       " 'Accuracy': 0.7419354838709677,\n",
       " 'Precision': 0.7060931899641577,\n",
       " 'Recall': 0.7419354838709677,\n",
       " 'F1-Score': 0.7092473118279571,\n",
       " 'CV': 0.9183333333333333}"
      ]
     },
     "metadata": {},
     "output_type": "display_data"
    },
    {
     "name": "stdout",
     "output_type": "stream",
     "text": [
      "Colonna:tetM\n",
      "Modello:Logistic Regression\n",
      "Fitting 5 folds for each of 10 candidates, totalling 50 fits\n",
      "{'solver': 'saga', 'penalty': 'l2', 'intercept_scaling': 2, 'fit_intercept': False, 'class_weight': None, 'C': 3792.690190732246}\n"
     ]
    },
    {
     "data": {
      "text/plain": [
       "{'Target': 'tetM',\n",
       " 'Model': 'Logistic Regression_PCA',\n",
       " 'Accuracy': 0.7096774193548387,\n",
       " 'Precision': 0.5036420395421436,\n",
       " 'Recall': 0.7096774193548387,\n",
       " 'F1-Score': 0.5891661594643944,\n",
       " 'CV': 0.8456666666666667}"
      ]
     },
     "metadata": {},
     "output_type": "display_data"
    },
    {
     "name": "stdout",
     "output_type": "stream",
     "text": [
      "Fitting 5 folds for each of 10 candidates, totalling 50 fits\n",
      "{'solver': 'newton-cg', 'penalty': 'none', 'intercept_scaling': 1, 'fit_intercept': True, 'class_weight': None, 'C': 0.03359818286283781}\n"
     ]
    },
    {
     "data": {
      "text/plain": [
       "{'Target': 'tetM',\n",
       " 'Model': 'Logistic Regression_Best_PCA',\n",
       " 'Accuracy': 0.6451612903225806,\n",
       " 'Precision': 0.607741935483871,\n",
       " 'Recall': 0.6451612903225806,\n",
       " 'F1-Score': 0.6210020590253946,\n",
       " 'CV': 0.8620000000000001}"
      ]
     },
     "metadata": {},
     "output_type": "display_data"
    },
    {
     "name": "stdout",
     "output_type": "stream",
     "text": [
      "Modello:Decision Tree\n",
      "Fitting 5 folds for each of 10 candidates, totalling 50 fits\n",
      "{'min_samples_split': 11, 'max_depth': 1, 'class_weight': None}\n"
     ]
    },
    {
     "data": {
      "text/plain": [
       "{'Target': 'tetM',\n",
       " 'Model': 'Decision Tree_PCA',\n",
       " 'Accuracy': 0.7419354838709677,\n",
       " 'Precision': 0.7277265745007679,\n",
       " 'Recall': 0.7419354838709677,\n",
       " 'F1-Score': 0.7314165497896213,\n",
       " 'CV': 0.8296666666666667}"
      ]
     },
     "metadata": {},
     "output_type": "display_data"
    },
    {
     "name": "stdout",
     "output_type": "stream",
     "text": [
      "Fitting 5 folds for each of 10 candidates, totalling 50 fits\n",
      "{'min_samples_split': 6, 'max_depth': 14, 'class_weight': None}\n"
     ]
    },
    {
     "data": {
      "text/plain": [
       "{'Target': 'tetM',\n",
       " 'Model': 'Decision Tree_Best_PCA',\n",
       " 'Accuracy': 0.7419354838709677,\n",
       " 'Precision': 0.7277265745007679,\n",
       " 'Recall': 0.7419354838709677,\n",
       " 'F1-Score': 0.7314165497896213,\n",
       " 'CV': 0.8543333333333335}"
      ]
     },
     "metadata": {},
     "output_type": "display_data"
    },
    {
     "name": "stdout",
     "output_type": "stream",
     "text": [
      "Modello:K-nn\n",
      "Fitting 5 folds for each of 10 candidates, totalling 50 fits\n",
      "{'weights': 'uniform', 'n_neighbors': 12, 'algorithm': 'ball_tree'}\n"
     ]
    },
    {
     "data": {
      "text/plain": [
       "{'Target': 'tetM',\n",
       " 'Model': 'K-nn_PCA',\n",
       " 'Accuracy': 0.7096774193548387,\n",
       " 'Precision': 0.6708482676224611,\n",
       " 'Recall': 0.7096774193548387,\n",
       " 'F1-Score': 0.6686585304096826,\n",
       " 'CV': 0.8453333333333333}"
      ]
     },
     "metadata": {},
     "output_type": "display_data"
    },
    {
     "name": "stdout",
     "output_type": "stream",
     "text": [
      "Fitting 5 folds for each of 10 candidates, totalling 50 fits\n",
      "{'weights': 'uniform', 'n_neighbors': 11, 'algorithm': 'auto'}\n"
     ]
    },
    {
     "data": {
      "text/plain": [
       "{'Target': 'tetM',\n",
       " 'Model': 'K-nn_Best_PCA',\n",
       " 'Accuracy': 0.7419354838709677,\n",
       " 'Precision': 0.810752688172043,\n",
       " 'Recall': 0.7419354838709677,\n",
       " 'F1-Score': 0.6585607940446649,\n",
       " 'CV': 0.8456666666666667}"
      ]
     },
     "metadata": {},
     "output_type": "display_data"
    },
    {
     "name": "stdout",
     "output_type": "stream",
     "text": [
      "Modello:Random Forest\n",
      "Fitting 5 folds for each of 10 candidates, totalling 50 fits\n",
      "{'n_estimators': 68, 'min_samples_split': 3, 'max_depth': 14, 'criterion': 'gini', 'class_weight': None}\n"
     ]
    },
    {
     "data": {
      "text/plain": [
       "{'Target': 'tetM',\n",
       " 'Model': 'Random Forest_PCA',\n",
       " 'Accuracy': 0.8064516129032258,\n",
       " 'Precision': 0.847926267281106,\n",
       " 'Recall': 0.8064516129032258,\n",
       " 'F1-Score': 0.7696774193548387,\n",
       " 'CV': 0.8459999999999999}"
      ]
     },
     "metadata": {},
     "output_type": "display_data"
    },
    {
     "name": "stdout",
     "output_type": "stream",
     "text": [
      "Fitting 5 folds for each of 10 candidates, totalling 50 fits\n",
      "{'n_estimators': 22, 'min_samples_split': 8, 'max_depth': 2, 'criterion': 'entropy', 'class_weight': None}\n"
     ]
    },
    {
     "data": {
      "text/plain": [
       "{'Target': 'tetM',\n",
       " 'Model': 'Random Forest_Best_PCA',\n",
       " 'Accuracy': 0.7096774193548387,\n",
       " 'Precision': 0.5036420395421436,\n",
       " 'Recall': 0.7096774193548387,\n",
       " 'F1-Score': 0.5891661594643944,\n",
       " 'CV': 0.8539999999999999}"
      ]
     },
     "metadata": {},
     "output_type": "display_data"
    },
    {
     "name": "stdout",
     "output_type": "stream",
     "text": [
      "Colonna:tetO\n",
      "Modello:Logistic Regression\n",
      "Fitting 5 folds for each of 10 candidates, totalling 50 fits\n",
      "{'solver': 'newton-cg', 'penalty': 'l2', 'intercept_scaling': 0.5, 'fit_intercept': False, 'class_weight': 'balanced', 'C': 10000.0}\n"
     ]
    },
    {
     "data": {
      "text/plain": [
       "{'Target': 'tetO',\n",
       " 'Model': 'Logistic Regression_PCA',\n",
       " 'Accuracy': 0.7741935483870968,\n",
       " 'Precision': 0.5993756503642039,\n",
       " 'Recall': 0.7741935483870968,\n",
       " 'F1-Score': 0.6756598240469208,\n",
       " 'CV': 0.732}"
      ]
     },
     "metadata": {},
     "output_type": "display_data"
    },
    {
     "name": "stdout",
     "output_type": "stream",
     "text": [
      "Fitting 5 folds for each of 10 candidates, totalling 50 fits\n",
      "{'solver': 'liblinear', 'penalty': 'l1', 'intercept_scaling': 0.5, 'fit_intercept': True, 'class_weight': 'balanced', 'C': 78.47599703514607}\n"
     ]
    },
    {
     "data": {
      "text/plain": [
       "{'Target': 'tetO',\n",
       " 'Model': 'Logistic Regression_Best_PCA',\n",
       " 'Accuracy': 0.7419354838709677,\n",
       " 'Precision': 0.7419354838709677,\n",
       " 'Recall': 0.7419354838709677,\n",
       " 'F1-Score': 0.7419354838709677,\n",
       " 'CV': 0.772}"
      ]
     },
     "metadata": {},
     "output_type": "display_data"
    },
    {
     "name": "stdout",
     "output_type": "stream",
     "text": [
      "Modello:Decision Tree\n",
      "Fitting 5 folds for each of 10 candidates, totalling 50 fits\n",
      "{'min_samples_split': 6, 'max_depth': 1, 'class_weight': 'balanced'}\n"
     ]
    },
    {
     "data": {
      "text/plain": [
       "{'Target': 'tetO',\n",
       " 'Model': 'Decision Tree_PCA',\n",
       " 'Accuracy': 0.6129032258064516,\n",
       " 'Precision': 0.6809384164222875,\n",
       " 'Recall': 0.6129032258064516,\n",
       " 'F1-Score': 0.638318670576735,\n",
       " 'CV': 0.747}"
      ]
     },
     "metadata": {},
     "output_type": "display_data"
    },
    {
     "name": "stdout",
     "output_type": "stream",
     "text": [
      "Fitting 5 folds for each of 10 candidates, totalling 50 fits\n",
      "{'min_samples_split': 5, 'max_depth': 13, 'class_weight': None}\n"
     ]
    },
    {
     "data": {
      "text/plain": [
       "{'Target': 'tetO',\n",
       " 'Model': 'Decision Tree_Best_PCA',\n",
       " 'Accuracy': 0.6774193548387096,\n",
       " 'Precision': 0.7086999022482893,\n",
       " 'Recall': 0.6774193548387096,\n",
       " 'F1-Score': 0.6905680224403926,\n",
       " 'CV': 0.747}"
      ]
     },
     "metadata": {},
     "output_type": "display_data"
    },
    {
     "name": "stdout",
     "output_type": "stream",
     "text": [
      "Modello:K-nn\n",
      "Fitting 5 folds for each of 10 candidates, totalling 50 fits\n",
      "{'weights': 'uniform', 'n_neighbors': 10, 'algorithm': 'ball_tree'}\n"
     ]
    },
    {
     "data": {
      "text/plain": [
       "{'Target': 'tetO',\n",
       " 'Model': 'K-nn_PCA',\n",
       " 'Accuracy': 0.6774193548387096,\n",
       " 'Precision': 0.6774193548387096,\n",
       " 'Recall': 0.6774193548387096,\n",
       " 'F1-Score': 0.6774193548387096,\n",
       " 'CV': 0.8206666666666667}"
      ]
     },
     "metadata": {},
     "output_type": "display_data"
    },
    {
     "name": "stdout",
     "output_type": "stream",
     "text": [
      "Fitting 5 folds for each of 10 candidates, totalling 50 fits\n",
      "{'weights': 'distance', 'n_neighbors': 10, 'algorithm': 'ball_tree'}\n"
     ]
    },
    {
     "data": {
      "text/plain": [
       "{'Target': 'tetO',\n",
       " 'Model': 'K-nn_Best_PCA',\n",
       " 'Accuracy': 0.7096774193548387,\n",
       " 'Precision': 0.6946236559139786,\n",
       " 'Recall': 0.7096774193548387,\n",
       " 'F1-Score': 0.7014736415658076,\n",
       " 'CV': 0.8286666666666667}"
      ]
     },
     "metadata": {},
     "output_type": "display_data"
    },
    {
     "name": "stdout",
     "output_type": "stream",
     "text": [
      "Modello:Random Forest\n",
      "Fitting 5 folds for each of 10 candidates, totalling 50 fits\n",
      "{'n_estimators': 41, 'min_samples_split': 4, 'max_depth': 7, 'criterion': 'entropy', 'class_weight': None}\n"
     ]
    },
    {
     "data": {
      "text/plain": [
       "{'Target': 'tetO',\n",
       " 'Model': 'Random Forest_PCA',\n",
       " 'Accuracy': 0.6774193548387096,\n",
       " 'Precision': 0.6774193548387096,\n",
       " 'Recall': 0.6774193548387096,\n",
       " 'F1-Score': 0.6774193548387096,\n",
       " 'CV': 0.8046666666666666}"
      ]
     },
     "metadata": {},
     "output_type": "display_data"
    },
    {
     "name": "stdout",
     "output_type": "stream",
     "text": [
      "Fitting 5 folds for each of 10 candidates, totalling 50 fits\n",
      "{'n_estimators': 98, 'min_samples_split': 13, 'max_depth': 7, 'criterion': 'entropy', 'class_weight': 'balanced'}\n"
     ]
    },
    {
     "data": {
      "text/plain": [
       "{'Target': 'tetO',\n",
       " 'Model': 'Random Forest_Best_PCA',\n",
       " 'Accuracy': 0.7096774193548387,\n",
       " 'Precision': 0.7242286115007013,\n",
       " 'Recall': 0.7096774193548387,\n",
       " 'F1-Score': 0.7162663006177077,\n",
       " 'CV': 0.8206666666666667}"
      ]
     },
     "metadata": {},
     "output_type": "display_data"
    },
    {
     "name": "stdout",
     "output_type": "stream",
     "text": [
      "Colonna:mf3\n",
      "Modello:Logistic Regression\n",
      "Fitting 5 folds for each of 10 candidates, totalling 50 fits\n",
      "{'solver': 'lbfgs', 'penalty': 'none', 'intercept_scaling': 1, 'fit_intercept': True, 'class_weight': 'balanced', 'C': 1.623776739188721}\n"
     ]
    },
    {
     "data": {
      "text/plain": [
       "{'Target': 'mf3',\n",
       " 'Model': 'Logistic Regression_PCA',\n",
       " 'Accuracy': 0.7096774193548387,\n",
       " 'Precision': 0.5036420395421436,\n",
       " 'Recall': 0.7096774193548387,\n",
       " 'F1-Score': 0.5891661594643944,\n",
       " 'CV': 0.6666666666666666}"
      ]
     },
     "metadata": {},
     "output_type": "display_data"
    },
    {
     "name": "stdout",
     "output_type": "stream",
     "text": [
      "Fitting 5 folds for each of 10 candidates, totalling 50 fits\n",
      "{'solver': 'sag', 'penalty': 'none', 'intercept_scaling': 2, 'fit_intercept': True, 'class_weight': None, 'C': 0.00026366508987303583}\n"
     ]
    },
    {
     "data": {
      "text/plain": [
       "{'Target': 'mf3',\n",
       " 'Model': 'Logistic Regression_Best_PCA',\n",
       " 'Accuracy': 0.7096774193548387,\n",
       " 'Precision': 0.5036420395421436,\n",
       " 'Recall': 0.7096774193548387,\n",
       " 'F1-Score': 0.5891661594643944,\n",
       " 'CV': 0.6666666666666666}"
      ]
     },
     "metadata": {},
     "output_type": "display_data"
    },
    {
     "name": "stdout",
     "output_type": "stream",
     "text": [
      "Modello:Decision Tree\n",
      "Fitting 5 folds for each of 10 candidates, totalling 50 fits\n",
      "{'min_samples_split': 6, 'max_depth': 6, 'class_weight': None}\n"
     ]
    },
    {
     "data": {
      "text/plain": [
       "{'Target': 'mf3',\n",
       " 'Model': 'Decision Tree_PCA',\n",
       " 'Accuracy': 0.7096774193548387,\n",
       " 'Precision': 0.684516129032258,\n",
       " 'Recall': 0.7096774193548387,\n",
       " 'F1-Score': 0.6899107755662321,\n",
       " 'CV': 0.634}"
      ]
     },
     "metadata": {},
     "output_type": "display_data"
    },
    {
     "name": "stdout",
     "output_type": "stream",
     "text": [
      "Fitting 5 folds for each of 10 candidates, totalling 50 fits\n",
      "{'min_samples_split': 6, 'max_depth': 3, 'class_weight': None}\n"
     ]
    },
    {
     "data": {
      "text/plain": [
       "{'Target': 'mf3',\n",
       " 'Model': 'Decision Tree_Best_PCA',\n",
       " 'Accuracy': 0.6774193548387096,\n",
       " 'Precision': 0.6774193548387096,\n",
       " 'Recall': 0.6774193548387096,\n",
       " 'F1-Score': 0.6774193548387096,\n",
       " 'CV': 0.6506666666666667}"
      ]
     },
     "metadata": {},
     "output_type": "display_data"
    },
    {
     "name": "stdout",
     "output_type": "stream",
     "text": [
      "Modello:K-nn\n",
      "Fitting 5 folds for each of 10 candidates, totalling 50 fits\n",
      "{'weights': 'distance', 'n_neighbors': 7, 'algorithm': 'kd_tree'}\n"
     ]
    },
    {
     "data": {
      "text/plain": [
       "{'Target': 'mf3',\n",
       " 'Model': 'K-nn_PCA',\n",
       " 'Accuracy': 0.8064516129032258,\n",
       " 'Precision': 0.8234604105571848,\n",
       " 'Recall': 0.8064516129032258,\n",
       " 'F1-Score': 0.811520737327189,\n",
       " 'CV': 0.6423333333333333}"
      ]
     },
     "metadata": {},
     "output_type": "display_data"
    },
    {
     "name": "stdout",
     "output_type": "stream",
     "text": [
      "Fitting 5 folds for each of 10 candidates, totalling 50 fits\n",
      "{'weights': 'distance', 'n_neighbors': 11, 'algorithm': 'brute'}\n"
     ]
    },
    {
     "data": {
      "text/plain": [
       "{'Target': 'mf3',\n",
       " 'Model': 'K-nn_Best_PCA',\n",
       " 'Accuracy': 0.8064516129032258,\n",
       " 'Precision': 0.8234604105571848,\n",
       " 'Recall': 0.8064516129032258,\n",
       " 'F1-Score': 0.811520737327189,\n",
       " 'CV': 0.7316666666666667}"
      ]
     },
     "metadata": {},
     "output_type": "display_data"
    },
    {
     "name": "stdout",
     "output_type": "stream",
     "text": [
      "Modello:Random Forest\n",
      "Fitting 5 folds for each of 10 candidates, totalling 50 fits\n",
      "{'n_estimators': 72, 'min_samples_split': 11, 'max_depth': 9, 'criterion': 'gini', 'class_weight': 'balanced'}\n"
     ]
    },
    {
     "data": {
      "text/plain": [
       "{'Target': 'mf3',\n",
       " 'Model': 'Random Forest_PCA',\n",
       " 'Accuracy': 0.8064516129032258,\n",
       " 'Precision': 0.8054590570719603,\n",
       " 'Recall': 0.8064516129032258,\n",
       " 'F1-Score': 0.7868663594470046,\n",
       " 'CV': 0.7153333333333334}"
      ]
     },
     "metadata": {},
     "output_type": "display_data"
    },
    {
     "name": "stdout",
     "output_type": "stream",
     "text": [
      "Fitting 5 folds for each of 10 candidates, totalling 50 fits\n",
      "{'n_estimators': 95, 'min_samples_split': 12, 'max_depth': 6, 'criterion': 'entropy', 'class_weight': 'balanced'}\n"
     ]
    },
    {
     "data": {
      "text/plain": [
       "{'Target': 'mf3',\n",
       " 'Model': 'Random Forest_Best_PCA',\n",
       " 'Accuracy': 0.7741935483870968,\n",
       " 'Precision': 0.7612903225806452,\n",
       " 'Recall': 0.7741935483870968,\n",
       " 'F1-Score': 0.7588194921070694,\n",
       " 'CV': 0.7406666666666666}"
      ]
     },
     "metadata": {},
     "output_type": "display_data"
    },
    {
     "name": "stdout",
     "output_type": "stream",
     "text": [
      "Colonna:subspecies\n",
      "Modello:Logistic Regression\n",
      "Fitting 5 folds for each of 10 candidates, totalling 50 fits\n",
      "{'solver': 'newton-cg', 'penalty': 'none', 'intercept_scaling': 1, 'fit_intercept': True, 'class_weight': None, 'C': 0.0006951927961775605}\n"
     ]
    },
    {
     "data": {
      "text/plain": [
       "{'Target': 'subspecies',\n",
       " 'Model': 'Logistic Regression_PCA',\n",
       " 'Accuracy': 0.3225806451612903,\n",
       " 'Precision': 0.1040582726326743,\n",
       " 'Recall': 0.3225806451612903,\n",
       " 'F1-Score': 0.15735641227380015,\n",
       " 'CV': 0.5393333333333333}"
      ]
     },
     "metadata": {},
     "output_type": "display_data"
    },
    {
     "name": "stdout",
     "output_type": "stream",
     "text": [
      "Fitting 5 folds for each of 10 candidates, totalling 50 fits\n",
      "{'solver': 'sag', 'penalty': 'none', 'intercept_scaling': 2, 'fit_intercept': False, 'class_weight': None, 'C': 0.0001}\n"
     ]
    },
    {
     "data": {
      "text/plain": [
       "{'Target': 'subspecies',\n",
       " 'Model': 'Logistic Regression_Best_PCA',\n",
       " 'Accuracy': 0.967741935483871,\n",
       " 'Precision': 0.970674486803519,\n",
       " 'Recall': 0.967741935483871,\n",
       " 'F1-Score': 0.967269289849935,\n",
       " 'CV': 0.9433333333333334}"
      ]
     },
     "metadata": {},
     "output_type": "display_data"
    },
    {
     "name": "stdout",
     "output_type": "stream",
     "text": [
      "Modello:Decision Tree\n",
      "Fitting 5 folds for each of 10 candidates, totalling 50 fits\n",
      "{'min_samples_split': 4, 'max_depth': 3, 'class_weight': None}\n"
     ]
    },
    {
     "data": {
      "text/plain": [
       "{'Target': 'subspecies',\n",
       " 'Model': 'Decision Tree_PCA',\n",
       " 'Accuracy': 0.9354838709677419,\n",
       " 'Precision': 0.946236559139785,\n",
       " 'Recall': 0.9354838709677419,\n",
       " 'F1-Score': 0.9330400782013685,\n",
       " 'CV': 0.9109999999999999}"
      ]
     },
     "metadata": {},
     "output_type": "display_data"
    },
    {
     "name": "stdout",
     "output_type": "stream",
     "text": [
      "Fitting 5 folds for each of 10 candidates, totalling 50 fits\n",
      "{'min_samples_split': 5, 'max_depth': 8, 'class_weight': None}\n"
     ]
    },
    {
     "data": {
      "text/plain": [
       "{'Target': 'subspecies',\n",
       " 'Model': 'Decision Tree_Best_PCA',\n",
       " 'Accuracy': 0.9354838709677419,\n",
       " 'Precision': 0.946236559139785,\n",
       " 'Recall': 0.9354838709677419,\n",
       " 'F1-Score': 0.9330400782013685,\n",
       " 'CV': 0.9276666666666668}"
      ]
     },
     "metadata": {},
     "output_type": "display_data"
    },
    {
     "name": "stdout",
     "output_type": "stream",
     "text": [
      "Modello:K-nn\n",
      "Fitting 5 folds for each of 10 candidates, totalling 50 fits\n",
      "{'weights': 'distance', 'n_neighbors': 3, 'algorithm': 'auto'}\n"
     ]
    },
    {
     "data": {
      "text/plain": [
       "{'Target': 'subspecies',\n",
       " 'Model': 'K-nn_PCA',\n",
       " 'Accuracy': 0.967741935483871,\n",
       " 'Precision': 0.970674486803519,\n",
       " 'Recall': 0.967741935483871,\n",
       " 'F1-Score': 0.967269289849935,\n",
       " 'CV': 0.9263333333333333}"
      ]
     },
     "metadata": {},
     "output_type": "display_data"
    },
    {
     "name": "stdout",
     "output_type": "stream",
     "text": [
      "Fitting 5 folds for each of 10 candidates, totalling 50 fits\n",
      "{'weights': 'uniform', 'n_neighbors': 1, 'algorithm': 'brute'}\n"
     ]
    },
    {
     "data": {
      "text/plain": [
       "{'Target': 'subspecies',\n",
       " 'Model': 'K-nn_Best_PCA',\n",
       " 'Accuracy': 1.0,\n",
       " 'Precision': 1.0,\n",
       " 'Recall': 1.0,\n",
       " 'F1-Score': 1.0,\n",
       " 'CV': 0.9513333333333334}"
      ]
     },
     "metadata": {},
     "output_type": "display_data"
    },
    {
     "name": "stdout",
     "output_type": "stream",
     "text": [
      "Modello:Random Forest\n",
      "Fitting 5 folds for each of 10 candidates, totalling 50 fits\n",
      "{'n_estimators': 35, 'min_samples_split': 4, 'max_depth': 13, 'criterion': 'gini', 'class_weight': 'balanced'}\n"
     ]
    },
    {
     "data": {
      "text/plain": [
       "{'Target': 'subspecies',\n",
       " 'Model': 'Random Forest_PCA',\n",
       " 'Accuracy': 1.0,\n",
       " 'Precision': 1.0,\n",
       " 'Recall': 1.0,\n",
       " 'F1-Score': 1.0,\n",
       " 'CV': 0.9433333333333334}"
      ]
     },
     "metadata": {},
     "output_type": "display_data"
    },
    {
     "name": "stdout",
     "output_type": "stream",
     "text": [
      "Fitting 5 folds for each of 10 candidates, totalling 50 fits\n",
      "{'n_estimators': 34, 'min_samples_split': 3, 'max_depth': 4, 'criterion': 'entropy', 'class_weight': 'balanced'}\n"
     ]
    },
    {
     "data": {
      "text/plain": [
       "{'Target': 'subspecies',\n",
       " 'Model': 'Random Forest_Best_PCA',\n",
       " 'Accuracy': 1.0,\n",
       " 'Precision': 1.0,\n",
       " 'Recall': 1.0,\n",
       " 'F1-Score': 1.0,\n",
       " 'CV': 0.9513333333333331}"
      ]
     },
     "metadata": {},
     "output_type": "display_data"
    },
    {
     "name": "stdout",
     "output_type": "stream",
     "text": [
      "Colonna:ST\n",
      "Modello:Logistic Regression\n",
      "Fitting 5 folds for each of 10 candidates, totalling 50 fits\n",
      "{'solver': 'lbfgs', 'penalty': 'none', 'intercept_scaling': 0.5, 'fit_intercept': False, 'class_weight': 'balanced', 'C': 0.0018329807108324356}\n"
     ]
    },
    {
     "data": {
      "text/plain": [
       "{'Target': 'ST',\n",
       " 'Model': 'Logistic Regression_PCA',\n",
       " 'Accuracy': 0.12903225806451613,\n",
       " 'Precision': 0.016649323621227886,\n",
       " 'Recall': 0.12903225806451613,\n",
       " 'F1-Score': 0.02949308755760369,\n",
       " 'CV': 0.13}"
      ]
     },
     "metadata": {},
     "output_type": "display_data"
    },
    {
     "name": "stdout",
     "output_type": "stream",
     "text": [
      "Fitting 5 folds for each of 10 candidates, totalling 50 fits\n",
      "{'solver': 'sag', 'penalty': 'none', 'intercept_scaling': 2, 'fit_intercept': False, 'class_weight': None, 'C': 0.615848211066026}\n"
     ]
    },
    {
     "data": {
      "text/plain": [
       "{'Target': 'ST',\n",
       " 'Model': 'Logistic Regression_Best_PCA',\n",
       " 'Accuracy': 0.3548387096774194,\n",
       " 'Precision': 0.3075268817204301,\n",
       " 'Recall': 0.3548387096774194,\n",
       " 'F1-Score': 0.31822836661546333,\n",
       " 'CV': 0.2753333333333333}"
      ]
     },
     "metadata": {},
     "output_type": "display_data"
    },
    {
     "name": "stdout",
     "output_type": "stream",
     "text": [
      "Modello:Decision Tree\n",
      "Fitting 5 folds for each of 10 candidates, totalling 50 fits\n",
      "{'min_samples_split': 12, 'max_depth': 13, 'class_weight': None}\n"
     ]
    },
    {
     "data": {
      "text/plain": [
       "{'Target': 'ST',\n",
       " 'Model': 'Decision Tree_PCA',\n",
       " 'Accuracy': 0.22580645161290322,\n",
       " 'Precision': 0.2043010752688172,\n",
       " 'Recall': 0.22580645161290322,\n",
       " 'F1-Score': 0.20967741935483872,\n",
       " 'CV': 0.17099999999999999}"
      ]
     },
     "metadata": {},
     "output_type": "display_data"
    },
    {
     "name": "stdout",
     "output_type": "stream",
     "text": [
      "Fitting 5 folds for each of 10 candidates, totalling 50 fits\n",
      "{'min_samples_split': 14, 'max_depth': 9, 'class_weight': None}\n"
     ]
    },
    {
     "data": {
      "text/plain": [
       "{'Target': 'ST',\n",
       " 'Model': 'Decision Tree_Best_PCA',\n",
       " 'Accuracy': 0.3870967741935484,\n",
       " 'Precision': 0.2790322580645161,\n",
       " 'Recall': 0.3870967741935484,\n",
       " 'F1-Score': 0.31505376344086017,\n",
       " 'CV': 0.187}"
      ]
     },
     "metadata": {},
     "output_type": "display_data"
    },
    {
     "name": "stdout",
     "output_type": "stream",
     "text": [
      "Modello:K-nn\n",
      "Fitting 5 folds for each of 10 candidates, totalling 50 fits\n",
      "{'weights': 'distance', 'n_neighbors': 4, 'algorithm': 'auto'}\n"
     ]
    },
    {
     "data": {
      "text/plain": [
       "{'Target': 'ST',\n",
       " 'Model': 'K-nn_PCA',\n",
       " 'Accuracy': 0.3870967741935484,\n",
       " 'Precision': 0.33064516129032256,\n",
       " 'Recall': 0.3870967741935484,\n",
       " 'F1-Score': 0.3405529953917051,\n",
       " 'CV': 0.284}"
      ]
     },
     "metadata": {},
     "output_type": "display_data"
    },
    {
     "name": "stdout",
     "output_type": "stream",
     "text": [
      "Fitting 5 folds for each of 10 candidates, totalling 50 fits\n",
      "{'weights': 'uniform', 'n_neighbors': 1, 'algorithm': 'auto'}\n"
     ]
    },
    {
     "data": {
      "text/plain": [
       "{'Target': 'ST',\n",
       " 'Model': 'K-nn_Best_PCA',\n",
       " 'Accuracy': 0.3548387096774194,\n",
       " 'Precision': 0.37634408602150543,\n",
       " 'Recall': 0.3548387096774194,\n",
       " 'F1-Score': 0.3471582181259601,\n",
       " 'CV': 0.29933333333333334}"
      ]
     },
     "metadata": {},
     "output_type": "display_data"
    },
    {
     "name": "stdout",
     "output_type": "stream",
     "text": [
      "Modello:Random Forest\n",
      "Fitting 5 folds for each of 10 candidates, totalling 50 fits\n",
      "{'n_estimators': 62, 'min_samples_split': 2, 'max_depth': 6, 'criterion': 'gini', 'class_weight': None}\n"
     ]
    },
    {
     "data": {
      "text/plain": [
       "{'Target': 'ST',\n",
       " 'Model': 'Random Forest_PCA',\n",
       " 'Accuracy': 0.3870967741935484,\n",
       " 'Precision': 0.3548387096774194,\n",
       " 'Recall': 0.3870967741935484,\n",
       " 'F1-Score': 0.34715821812596004,\n",
       " 'CV': 0.364}"
      ]
     },
     "metadata": {},
     "output_type": "display_data"
    },
    {
     "name": "stdout",
     "output_type": "stream",
     "text": [
      "Fitting 5 folds for each of 10 candidates, totalling 50 fits\n",
      "{'n_estimators': 72, 'min_samples_split': 3, 'max_depth': 14, 'criterion': 'gini', 'class_weight': None}\n"
     ]
    },
    {
     "data": {
      "text/plain": [
       "{'Target': 'ST',\n",
       " 'Model': 'Random Forest_Best_PCA',\n",
       " 'Accuracy': 0.3870967741935484,\n",
       " 'Precision': 0.31648745519713256,\n",
       " 'Recall': 0.3870967741935484,\n",
       " 'F1-Score': 0.31903580290677064,\n",
       " 'CV': 0.381}"
      ]
     },
     "metadata": {},
     "output_type": "display_data"
    },
    {
     "data": {
      "text/html": [
       "<div>\n",
       "<style scoped>\n",
       "    .dataframe tbody tr th:only-of-type {\n",
       "        vertical-align: middle;\n",
       "    }\n",
       "\n",
       "    .dataframe tbody tr th {\n",
       "        vertical-align: top;\n",
       "    }\n",
       "\n",
       "    .dataframe thead th {\n",
       "        text-align: right;\n",
       "    }\n",
       "</style>\n",
       "<table border=\"1\" class=\"dataframe\">\n",
       "  <thead>\n",
       "    <tr style=\"text-align: right;\">\n",
       "      <th></th>\n",
       "      <th>Target</th>\n",
       "      <th>Model</th>\n",
       "      <th>Accuracy</th>\n",
       "      <th>Precision</th>\n",
       "      <th>Recall</th>\n",
       "      <th>F1-Score</th>\n",
       "      <th>CV</th>\n",
       "    </tr>\n",
       "  </thead>\n",
       "  <tbody>\n",
       "  </tbody>\n",
       "</table>\n",
       "</div>"
      ],
      "text/plain": [
       "Empty DataFrame\n",
       "Columns: [Target, Model, Accuracy, Precision, Recall, F1-Score, CV]\n",
       "Index: []"
      ]
     },
     "metadata": {},
     "output_type": "display_data"
    },
    {
     "data": {
      "text/html": [
       "<div>\n",
       "<style scoped>\n",
       "    .dataframe tbody tr th:only-of-type {\n",
       "        vertical-align: middle;\n",
       "    }\n",
       "\n",
       "    .dataframe tbody tr th {\n",
       "        vertical-align: top;\n",
       "    }\n",
       "\n",
       "    .dataframe thead th {\n",
       "        text-align: right;\n",
       "    }\n",
       "</style>\n",
       "<table border=\"1\" class=\"dataframe\">\n",
       "  <thead>\n",
       "    <tr style=\"text-align: right;\">\n",
       "      <th></th>\n",
       "      <th>Target</th>\n",
       "      <th>Model</th>\n",
       "      <th>Accuracy</th>\n",
       "      <th>Precision</th>\n",
       "      <th>Recall</th>\n",
       "      <th>F1-Score</th>\n",
       "      <th>CV</th>\n",
       "    </tr>\n",
       "  </thead>\n",
       "  <tbody>\n",
       "  </tbody>\n",
       "</table>\n",
       "</div>"
      ],
      "text/plain": [
       "Empty DataFrame\n",
       "Columns: [Target, Model, Accuracy, Precision, Recall, F1-Score, CV]\n",
       "Index: []"
      ]
     },
     "metadata": {},
     "output_type": "display_data"
    }
   ],
   "source": [
    "# define the models\n",
    "models = {'Logistic Regression': LogisticRegression(),\n",
    "          'Decision Tree': DecisionTreeClassifier(),\n",
    "          'K-nn': KNeighborsClassifier(),\n",
    "          'Random Forest': RandomForestClassifier()}\n",
    "\n",
    "# Hyperparameter tuning using RandomizedSearchCV\n",
    "param_grid = {'Logistic Regression': {'C': np.logspace(-4, 4, 20), \n",
    "                                    'penalty': ['l1', 'l2', 'elasticnet', 'none'],\n",
    "                                    'solver': ['newton-cg', 'lbfgs', 'liblinear', 'sag', 'saga'],\n",
    "                                    'fit_intercept': [True, False],\n",
    "                                    'intercept_scaling': [0.5, 1, 2],\n",
    "                                    'class_weight': [None, 'balanced']},\n",
    "              'Decision Tree': {'max_depth': range(1, 15), 'min_samples_split': range(2, 15), 'class_weight': [None, 'balanced']},\n",
    "              'K-nn': {'n_neighbors': range(1, 15), 'weights': ['uniform', 'distance'], 'algorithm': ['auto', 'ball_tree', 'kd_tree', 'brute']},\n",
    "              'Random Forest': {'n_estimators': range(10, 100), 'max_depth': range(1, 15), 'min_samples_split': range(2, 15), 'class_weight': [None, 'balanced'], 'criterion': ['gini', 'entropy']}}\n",
    "\n",
    "# create an empty dataframe to store the metrics\n",
    "metrics_df = pd.DataFrame(columns=['Target','Model','Accuracy','Precision','Recall','F1-Score','CV'])\n",
    "metrics_pca = pd.DataFrame(columns=['Target','Model','Accuracy','Precision','Recall','F1-Score','CV'])\n",
    "\n",
    "metrics_best = pd.DataFrame(columns=['Target','Model','Accuracy','Precision','Recall','F1-Score','CV'])\n",
    "metrics_best_pca = pd.DataFrame(columns=['Target','Model','Accuracy','Precision','Recall','F1-Score','CV'])\n",
    "\n",
    "skfold = StratifiedKFold(n_splits=5, shuffle=True, random_state=42)\n",
    "X = maldi\n",
    "for str_target, target in targets.items():\n",
    "    columns = target.columns\n",
    "    for column in columns:    \n",
    "        y = target[column]\n",
    "\n",
    "        # split the data into training and testing sets\n",
    "        X_train, X_test, y_train, y_test = train_test_split(X, y, test_size=0.2, random_state=42)\n",
    "        X_pca_train, X_pca_test = dimensionality_reduction(X_train, X_test, n_components=0.95)\n",
    "        print(\"Colonna:\"+column)\n",
    "        \n",
    "        '''print(\"X_TRAIN:\")\n",
    "        display(X_train)\n",
    "        print(\"X_PCA_TRAIN:\")\n",
    "        display(X_pca_train)\n",
    "        print(\"X_TEST:\")\n",
    "        display(X_test)\n",
    "        print(\"X_PCA_TEST:\")\n",
    "        display(X_pca_test)\n",
    "        print(\"y_TRAIN:\")\n",
    "        display(y_train)\n",
    "        print(\"y_TEST:\")\n",
    "        display(y_test)'''\n",
    "\n",
    "        # evaluate the models on the original dataset\n",
    "        for name, model in models.items():\n",
    "            model_base = model\n",
    "            model_base_pca = model\n",
    "            #Modello base\n",
    "            print(\"Modello:\"+name)\n",
    "            model_base.fit(X_train, y_train)\n",
    "            y_pred = model_base.predict(X_test)\n",
    "            \n",
    "            acc = accuracy_score(y_test, y_pred)\n",
    "            prec = precision_score(y_test, y_pred, average='weighted')\n",
    "            rec = recall_score(y_test, y_pred, average='weighted')\n",
    "            f1 = f1_score(y_test, y_pred, average='weighted')          \n",
    "            cv = cross_val_score(estimator=model_base, X=X_train, y=y_train,\n",
    "                                                    scoring=\"accuracy\", cv=skfold, n_jobs=N_JOBS, verbose=0).mean()\n",
    "            \n",
    "            ris = {'Target': column,\n",
    "                   'Model': name,\n",
    "                   'Accuracy' : acc,\n",
    "                   'Precision' : prec,\n",
    "                   'Recall' : rec,\n",
    "                   'F1-Score' : f1,\n",
    "                   'CV' : cv} \n",
    "            #display(ris)\n",
    "            metrics_df.append(ris, ignore_index=True)  \n",
    "            \n",
    "            #Tuning iperparametri\n",
    "            params = param_grid[name]\n",
    "            rs = RandomizedSearchCV(estimator=model, param_distributions=params,\n",
    "                                scoring=\"accuracy\", n_jobs=-1, cv=skfold, verbose=1)\n",
    "            rs.fit(X_train, y_train)\n",
    "            \n",
    "            print(rs.best_params_)\n",
    "            parametri = rs.best_params_\n",
    "            best_model = rs.best_estimator_\n",
    "            y_pred = best_model.predict(X_test)\n",
    "             \n",
    "            cv_best = rs.best_score_\n",
    "            acc_best = accuracy_score(y_test, y_pred)\n",
    "            prec_best = precision_score(y_test, y_pred, average='weighted')\n",
    "            rec_best = recall_score(y_test, y_pred, average='weighted')\n",
    "            f1_best = f1_score(y_test, y_pred, average='weighted')\n",
    "            \n",
    "            ris = {'Target': column,\n",
    "                   'Model': name+'_Best',\n",
    "                   'Accuracy' : acc_best,\n",
    "                   'Precision' : prec_best,\n",
    "                   'Recall' : rec_best,\n",
    "                   'F1-Score' : f1_best,\n",
    "                   'CV' : cv_best} \n",
    "            #display(ris)\n",
    "            metrics_df.append(ris, ignore_index=True)  \n",
    "            \n",
    "            # PCA base\n",
    "            model_base_pca.fit(X_pca_train, y_train)\n",
    "            y_pred_pca = model_base_pca.predict(X_pca_test)\n",
    "            \n",
    "            acc_pca = accuracy_score(y_test, y_pred_pca)\n",
    "            prec_pca = precision_score(y_test, y_pred_pca, average='weighted')\n",
    "            rec_pca = recall_score(y_test, y_pred_pca, average='weighted')\n",
    "            f1_pca = f1_score(y_test, y_pred_pca, average='weighted')\n",
    "            cv_pca = cross_val_score(estimator=model_base_pca, X=X_pca_train, y=y_train,\n",
    "                                                    scoring=\"accuracy\", cv=skfold, n_jobs=N_JOBS, verbose=0).mean()\n",
    "            \n",
    "            ris = {'Target': column,\n",
    "                   'Model': name+'_PCA',\n",
    "                   'Accuracy' : acc_pca,\n",
    "                   'Precision' : prec_pca,\n",
    "                   'Recall' : rec_pca,\n",
    "                   'F1-Score' : f1_pca,\n",
    "                   'CV' : cv_pca} \n",
    "            display(ris)\n",
    "            metrics_pca.append(ris, ignore_index=True)  \n",
    "            \n",
    "            #PCA con Tuning\n",
    "            rs = RandomizedSearchCV(estimator=model, param_distributions=params,\n",
    "                                scoring=\"accuracy\", n_jobs=-1, cv=skfold, verbose=1)\n",
    "            rs.fit(X_pca_train, y_train)\n",
    "            print(rs.best_params_)\n",
    "            parametri = rs.best_params_           \n",
    "            best_model_pca = rs.best_estimator_\n",
    "            y_pred = best_model_pca.predict(X_pca_test)\n",
    "            \n",
    "            cv_best_pca = rs.best_score_\n",
    "            acc_best_pca = accuracy_score(y_test, y_pred)\n",
    "            prec_best_pca = precision_score(y_test, y_pred, average='weighted')\n",
    "            rec_best_pca = recall_score(y_test, y_pred, average='weighted')\n",
    "            f1_best_pca = f1_score(y_test, y_pred, average='weighted')\n",
    "            \n",
    "            ris = {'Target': column,\n",
    "                   'Model': name+'_Best_PCA',\n",
    "                   'Accuracy' : acc_best_pca,\n",
    "                   'Precision' : prec_best_pca,\n",
    "                   'Recall' : rec_best_pca,\n",
    "                   'F1-Score' : f1_best_pca,\n",
    "                   'CV' : cv_best_pca} \n",
    "            display(ris)\n",
    "            metrics_pca.append(ris, ignore_index=True) \n",
    "            \n",
    "display(metrics_df)\n",
    "display(metrics_pca)\n",
    "metrics_df.to_csv('Results.csv')\n",
    "metrics_pca.to_csv('Results_pca.csv')"
   ]
  },
  {
   "attachments": {},
   "cell_type": "markdown",
   "metadata": {},
   "source": [
    "Imports necessary libraries\n",
    "Loads and preprocesses the data\n",
    "Defines a function for standard scaling\n",
    "Defines a function for dimensionality reduction using PCA\n",
    "Defines functions for training and evaluating the following models:\n",
    "Logistic Regression\n",
    "Decision Trees\n",
    "k-Nearest Neighbors\n",
    "Random Forest\n",
    "Lasso Regularization\n",
    "Ridge Regularization\n",
    "Defines a function for tuning the hyperparameters of the models using Random Search\n",
    "Defines a function for saving the metric scores to a CSV file\n",
    "Defines a function for creating a confusion matrix for each model\n",
    "Initializes an empty dataframe to store the results\n",
    "Iterates through the models, training and evaluating them both with and without dimensionality reduction using PCA and standard scaling\n",
    "Saves the results to a CSV file"
   ]
  },
  {
   "attachments": {},
   "cell_type": "markdown",
   "metadata": {},
   "source": [
    "First, you will need to import the necessary libraries for data manipulation, model training, and evaluation. These can include pandas, numpy, sklearn and others.\n",
    "\n",
    "Then, you will need to load the data and split it into training and testing sets. You can use the train_test_split function from sklearn to do this.\n",
    "\n",
    "Next, you will need to implement the different models, such as logistic regression, decision trees, k-nn, and random forest. You can use the corresponding classes from sklearn to do this.\n",
    "\n",
    "After that, you will need to implement the dimensionality reduction techniques, such as PCA, Lasso regularization, and Ridge regularization, and use the Standard Scaler to preprocess the data.\n",
    "\n",
    "After that, you will need to train the models on the original data and the data reduced with PCA, and use the appropriate evaluation metric for classification problem.\n",
    "\n",
    "Finally, you will need to use GridSearchCV or RandomizedSearchCV for tuning the hyperparameters for each model, and save the results of the evaluation in a CSV file for future reference.\n",
    "\n",
    "Keep in mind that this is a high-level overview and you may need to add more detail and fine-tuning to the script for it to work correctly."
   ]
  },
  {
   "cell_type": "code",
   "execution_count": 13,
   "metadata": {},
   "outputs": [
    {
     "ename": "ValueError",
     "evalue": "\nAll the 50 fits failed.\nIt is very likely that your model is misconfigured.\nYou can try to debug the error by setting error_score='raise'.\n\nBelow are more details about the failures:\n--------------------------------------------------------------------------------\n10 fits failed with the following error:\nTraceback (most recent call last):\n  File \"d:\\PycharmProjects\\Thesis-Streptococcus-Classification\\venv\\lib\\site-packages\\sklearn\\model_selection\\_validation.py\", line 686, in _fit_and_score\n    estimator.fit(X_train, y_train, **fit_params)\n  File \"d:\\PycharmProjects\\Thesis-Streptococcus-Classification\\venv\\lib\\site-packages\\sklearn\\linear_model\\_coordinate_descent.py\", line 955, in fit\n    X, y = self._validate_data(\n  File \"d:\\PycharmProjects\\Thesis-Streptococcus-Classification\\venv\\lib\\site-packages\\sklearn\\base.py\", line 596, in _validate_data\n    X, y = check_X_y(X, y, **check_params)\n  File \"d:\\PycharmProjects\\Thesis-Streptococcus-Classification\\venv\\lib\\site-packages\\sklearn\\utils\\validation.py\", line 1090, in check_X_y\n    y = _check_y(y, multi_output=multi_output, y_numeric=y_numeric, estimator=estimator)\n  File \"d:\\PycharmProjects\\Thesis-Streptococcus-Classification\\venv\\lib\\site-packages\\sklearn\\utils\\validation.py\", line 1115, in _check_y\n    y = y.astype(np.float64)\nValueError: could not convert string to float: 'ST231'\n\n--------------------------------------------------------------------------------\n40 fits failed with the following error:\nTraceback (most recent call last):\n  File \"d:\\PycharmProjects\\Thesis-Streptococcus-Classification\\venv\\lib\\site-packages\\sklearn\\model_selection\\_validation.py\", line 686, in _fit_and_score\n    estimator.fit(X_train, y_train, **fit_params)\n  File \"d:\\PycharmProjects\\Thesis-Streptococcus-Classification\\venv\\lib\\site-packages\\sklearn\\linear_model\\_coordinate_descent.py\", line 955, in fit\n    X, y = self._validate_data(\n  File \"d:\\PycharmProjects\\Thesis-Streptococcus-Classification\\venv\\lib\\site-packages\\sklearn\\base.py\", line 596, in _validate_data\n    X, y = check_X_y(X, y, **check_params)\n  File \"d:\\PycharmProjects\\Thesis-Streptococcus-Classification\\venv\\lib\\site-packages\\sklearn\\utils\\validation.py\", line 1090, in check_X_y\n    y = _check_y(y, multi_output=multi_output, y_numeric=y_numeric, estimator=estimator)\n  File \"d:\\PycharmProjects\\Thesis-Streptococcus-Classification\\venv\\lib\\site-packages\\sklearn\\utils\\validation.py\", line 1115, in _check_y\n    y = y.astype(np.float64)\nValueError: could not convert string to float: 'ST13'\n",
     "output_type": "error",
     "traceback": [
      "\u001b[1;31m---------------------------------------------------------------------------\u001b[0m",
      "\u001b[1;31mValueError\u001b[0m                                Traceback (most recent call last)",
      "Cell \u001b[1;32mIn[13], line 17\u001b[0m\n\u001b[0;32m     14\u001b[0m lasso_regressor \u001b[39m=\u001b[39m RandomizedSearchCV(lasso, param_grid, cv\u001b[39m=\u001b[39m\u001b[39m5\u001b[39m)\n\u001b[0;32m     16\u001b[0m \u001b[39m# Fit the Lasso model to the data\u001b[39;00m\n\u001b[1;32m---> 17\u001b[0m lasso_regressor\u001b[39m.\u001b[39;49mfit(X_train, y_train)\n\u001b[0;32m     19\u001b[0m \u001b[39m# Print the optimal alpha value\u001b[39;00m\n\u001b[0;32m     20\u001b[0m \u001b[39mprint\u001b[39m(\u001b[39m\"\u001b[39m\u001b[39mOptimal alpha value:\u001b[39m\u001b[39m\"\u001b[39m, lasso_regressor\u001b[39m.\u001b[39mbest_params_)\n",
      "File \u001b[1;32md:\\PycharmProjects\\Thesis-Streptococcus-Classification\\venv\\lib\\site-packages\\sklearn\\model_selection\\_search.py:875\u001b[0m, in \u001b[0;36mBaseSearchCV.fit\u001b[1;34m(self, X, y, groups, **fit_params)\u001b[0m\n\u001b[0;32m    869\u001b[0m     results \u001b[39m=\u001b[39m \u001b[39mself\u001b[39m\u001b[39m.\u001b[39m_format_results(\n\u001b[0;32m    870\u001b[0m         all_candidate_params, n_splits, all_out, all_more_results\n\u001b[0;32m    871\u001b[0m     )\n\u001b[0;32m    873\u001b[0m     \u001b[39mreturn\u001b[39;00m results\n\u001b[1;32m--> 875\u001b[0m \u001b[39mself\u001b[39;49m\u001b[39m.\u001b[39;49m_run_search(evaluate_candidates)\n\u001b[0;32m    877\u001b[0m \u001b[39m# multimetric is determined here because in the case of a callable\u001b[39;00m\n\u001b[0;32m    878\u001b[0m \u001b[39m# self.scoring the return type is only known after calling\u001b[39;00m\n\u001b[0;32m    879\u001b[0m first_test_score \u001b[39m=\u001b[39m all_out[\u001b[39m0\u001b[39m][\u001b[39m\"\u001b[39m\u001b[39mtest_scores\u001b[39m\u001b[39m\"\u001b[39m]\n",
      "File \u001b[1;32md:\\PycharmProjects\\Thesis-Streptococcus-Classification\\venv\\lib\\site-packages\\sklearn\\model_selection\\_search.py:1753\u001b[0m, in \u001b[0;36mRandomizedSearchCV._run_search\u001b[1;34m(self, evaluate_candidates)\u001b[0m\n\u001b[0;32m   1751\u001b[0m \u001b[39mdef\u001b[39;00m \u001b[39m_run_search\u001b[39m(\u001b[39mself\u001b[39m, evaluate_candidates):\n\u001b[0;32m   1752\u001b[0m     \u001b[39m\"\"\"Search n_iter candidates from param_distributions\"\"\"\u001b[39;00m\n\u001b[1;32m-> 1753\u001b[0m     evaluate_candidates(\n\u001b[0;32m   1754\u001b[0m         ParameterSampler(\n\u001b[0;32m   1755\u001b[0m             \u001b[39mself\u001b[39;49m\u001b[39m.\u001b[39;49mparam_distributions, \u001b[39mself\u001b[39;49m\u001b[39m.\u001b[39;49mn_iter, random_state\u001b[39m=\u001b[39;49m\u001b[39mself\u001b[39;49m\u001b[39m.\u001b[39;49mrandom_state\n\u001b[0;32m   1756\u001b[0m         )\n\u001b[0;32m   1757\u001b[0m     )\n",
      "File \u001b[1;32md:\\PycharmProjects\\Thesis-Streptococcus-Classification\\venv\\lib\\site-packages\\sklearn\\model_selection\\_search.py:852\u001b[0m, in \u001b[0;36mBaseSearchCV.fit.<locals>.evaluate_candidates\u001b[1;34m(candidate_params, cv, more_results)\u001b[0m\n\u001b[0;32m    845\u001b[0m \u001b[39melif\u001b[39;00m \u001b[39mlen\u001b[39m(out) \u001b[39m!=\u001b[39m n_candidates \u001b[39m*\u001b[39m n_splits:\n\u001b[0;32m    846\u001b[0m     \u001b[39mraise\u001b[39;00m \u001b[39mValueError\u001b[39;00m(\n\u001b[0;32m    847\u001b[0m         \u001b[39m\"\u001b[39m\u001b[39mcv.split and cv.get_n_splits returned \u001b[39m\u001b[39m\"\u001b[39m\n\u001b[0;32m    848\u001b[0m         \u001b[39m\"\u001b[39m\u001b[39minconsistent results. Expected \u001b[39m\u001b[39m{}\u001b[39;00m\u001b[39m \u001b[39m\u001b[39m\"\u001b[39m\n\u001b[0;32m    849\u001b[0m         \u001b[39m\"\u001b[39m\u001b[39msplits, got \u001b[39m\u001b[39m{}\u001b[39;00m\u001b[39m\"\u001b[39m\u001b[39m.\u001b[39mformat(n_splits, \u001b[39mlen\u001b[39m(out) \u001b[39m/\u001b[39m\u001b[39m/\u001b[39m n_candidates)\n\u001b[0;32m    850\u001b[0m     )\n\u001b[1;32m--> 852\u001b[0m _warn_or_raise_about_fit_failures(out, \u001b[39mself\u001b[39;49m\u001b[39m.\u001b[39;49merror_score)\n\u001b[0;32m    854\u001b[0m \u001b[39m# For callable self.scoring, the return type is only know after\u001b[39;00m\n\u001b[0;32m    855\u001b[0m \u001b[39m# calling. If the return type is a dictionary, the error scores\u001b[39;00m\n\u001b[0;32m    856\u001b[0m \u001b[39m# can now be inserted with the correct key. The type checking\u001b[39;00m\n\u001b[0;32m    857\u001b[0m \u001b[39m# of out will be done in `_insert_error_scores`.\u001b[39;00m\n\u001b[0;32m    858\u001b[0m \u001b[39mif\u001b[39;00m callable(\u001b[39mself\u001b[39m\u001b[39m.\u001b[39mscoring):\n",
      "File \u001b[1;32md:\\PycharmProjects\\Thesis-Streptococcus-Classification\\venv\\lib\\site-packages\\sklearn\\model_selection\\_validation.py:367\u001b[0m, in \u001b[0;36m_warn_or_raise_about_fit_failures\u001b[1;34m(results, error_score)\u001b[0m\n\u001b[0;32m    360\u001b[0m \u001b[39mif\u001b[39;00m num_failed_fits \u001b[39m==\u001b[39m num_fits:\n\u001b[0;32m    361\u001b[0m     all_fits_failed_message \u001b[39m=\u001b[39m (\n\u001b[0;32m    362\u001b[0m         \u001b[39mf\u001b[39m\u001b[39m\"\u001b[39m\u001b[39m\\n\u001b[39;00m\u001b[39mAll the \u001b[39m\u001b[39m{\u001b[39;00mnum_fits\u001b[39m}\u001b[39;00m\u001b[39m fits failed.\u001b[39m\u001b[39m\\n\u001b[39;00m\u001b[39m\"\u001b[39m\n\u001b[0;32m    363\u001b[0m         \u001b[39m\"\u001b[39m\u001b[39mIt is very likely that your model is misconfigured.\u001b[39m\u001b[39m\\n\u001b[39;00m\u001b[39m\"\u001b[39m\n\u001b[0;32m    364\u001b[0m         \u001b[39m\"\u001b[39m\u001b[39mYou can try to debug the error by setting error_score=\u001b[39m\u001b[39m'\u001b[39m\u001b[39mraise\u001b[39m\u001b[39m'\u001b[39m\u001b[39m.\u001b[39m\u001b[39m\\n\u001b[39;00m\u001b[39m\\n\u001b[39;00m\u001b[39m\"\u001b[39m\n\u001b[0;32m    365\u001b[0m         \u001b[39mf\u001b[39m\u001b[39m\"\u001b[39m\u001b[39mBelow are more details about the failures:\u001b[39m\u001b[39m\\n\u001b[39;00m\u001b[39m{\u001b[39;00mfit_errors_summary\u001b[39m}\u001b[39;00m\u001b[39m\"\u001b[39m\n\u001b[0;32m    366\u001b[0m     )\n\u001b[1;32m--> 367\u001b[0m     \u001b[39mraise\u001b[39;00m \u001b[39mValueError\u001b[39;00m(all_fits_failed_message)\n\u001b[0;32m    369\u001b[0m \u001b[39melse\u001b[39;00m:\n\u001b[0;32m    370\u001b[0m     some_fits_failed_message \u001b[39m=\u001b[39m (\n\u001b[0;32m    371\u001b[0m         \u001b[39mf\u001b[39m\u001b[39m\"\u001b[39m\u001b[39m\\n\u001b[39;00m\u001b[39m{\u001b[39;00mnum_failed_fits\u001b[39m}\u001b[39;00m\u001b[39m fits failed out of a total of \u001b[39m\u001b[39m{\u001b[39;00mnum_fits\u001b[39m}\u001b[39;00m\u001b[39m.\u001b[39m\u001b[39m\\n\u001b[39;00m\u001b[39m\"\u001b[39m\n\u001b[0;32m    372\u001b[0m         \u001b[39m\"\u001b[39m\u001b[39mThe score on these train-test partitions for these parameters\u001b[39m\u001b[39m\"\u001b[39m\n\u001b[1;32m   (...)\u001b[0m\n\u001b[0;32m    376\u001b[0m         \u001b[39mf\u001b[39m\u001b[39m\"\u001b[39m\u001b[39mBelow are more details about the failures:\u001b[39m\u001b[39m\\n\u001b[39;00m\u001b[39m{\u001b[39;00mfit_errors_summary\u001b[39m}\u001b[39;00m\u001b[39m\"\u001b[39m\n\u001b[0;32m    377\u001b[0m     )\n",
      "\u001b[1;31mValueError\u001b[0m: \nAll the 50 fits failed.\nIt is very likely that your model is misconfigured.\nYou can try to debug the error by setting error_score='raise'.\n\nBelow are more details about the failures:\n--------------------------------------------------------------------------------\n10 fits failed with the following error:\nTraceback (most recent call last):\n  File \"d:\\PycharmProjects\\Thesis-Streptococcus-Classification\\venv\\lib\\site-packages\\sklearn\\model_selection\\_validation.py\", line 686, in _fit_and_score\n    estimator.fit(X_train, y_train, **fit_params)\n  File \"d:\\PycharmProjects\\Thesis-Streptococcus-Classification\\venv\\lib\\site-packages\\sklearn\\linear_model\\_coordinate_descent.py\", line 955, in fit\n    X, y = self._validate_data(\n  File \"d:\\PycharmProjects\\Thesis-Streptococcus-Classification\\venv\\lib\\site-packages\\sklearn\\base.py\", line 596, in _validate_data\n    X, y = check_X_y(X, y, **check_params)\n  File \"d:\\PycharmProjects\\Thesis-Streptococcus-Classification\\venv\\lib\\site-packages\\sklearn\\utils\\validation.py\", line 1090, in check_X_y\n    y = _check_y(y, multi_output=multi_output, y_numeric=y_numeric, estimator=estimator)\n  File \"d:\\PycharmProjects\\Thesis-Streptococcus-Classification\\venv\\lib\\site-packages\\sklearn\\utils\\validation.py\", line 1115, in _check_y\n    y = y.astype(np.float64)\nValueError: could not convert string to float: 'ST231'\n\n--------------------------------------------------------------------------------\n40 fits failed with the following error:\nTraceback (most recent call last):\n  File \"d:\\PycharmProjects\\Thesis-Streptococcus-Classification\\venv\\lib\\site-packages\\sklearn\\model_selection\\_validation.py\", line 686, in _fit_and_score\n    estimator.fit(X_train, y_train, **fit_params)\n  File \"d:\\PycharmProjects\\Thesis-Streptococcus-Classification\\venv\\lib\\site-packages\\sklearn\\linear_model\\_coordinate_descent.py\", line 955, in fit\n    X, y = self._validate_data(\n  File \"d:\\PycharmProjects\\Thesis-Streptococcus-Classification\\venv\\lib\\site-packages\\sklearn\\base.py\", line 596, in _validate_data\n    X, y = check_X_y(X, y, **check_params)\n  File \"d:\\PycharmProjects\\Thesis-Streptococcus-Classification\\venv\\lib\\site-packages\\sklearn\\utils\\validation.py\", line 1090, in check_X_y\n    y = _check_y(y, multi_output=multi_output, y_numeric=y_numeric, estimator=estimator)\n  File \"d:\\PycharmProjects\\Thesis-Streptococcus-Classification\\venv\\lib\\site-packages\\sklearn\\utils\\validation.py\", line 1115, in _check_y\n    y = y.astype(np.float64)\nValueError: could not convert string to float: 'ST13'\n"
     ]
    }
   ],
   "source": [
    "# Import Lasso from sklearn's linear_model module\n",
    "from sklearn.linear_model import Lasso\n",
    "\n",
    "# Initialize Lasso model\n",
    "lasso = Lasso()\n",
    "\n",
    "# Define a range of alpha values to test\n",
    "alphas = np.logspace(-5, 5, 100)\n",
    "\n",
    "# Create a dictionary containing Lasso hyperparameters to test\n",
    "param_grid = {'alpha': alphas}\n",
    "\n",
    "# Use RandomizedSearchCV to optimize Lasso hyperparameters\n",
    "lasso_regressor = RandomizedSearchCV(lasso, param_grid, cv=5)\n",
    "\n",
    "# Fit the Lasso model to the data\n",
    "lasso_regressor.fit(X_train, y_train)\n",
    "\n",
    "# Print the optimal alpha value\n",
    "print(\"Optimal alpha value:\", lasso_regressor.best_params_)\n",
    "\n",
    "# Predict on the test set\n",
    "y_pred_lasso = lasso_regressor.predict(X_test)\n",
    "\n",
    "# Print the performance metrics\n",
    "print(\"Mean Absolute Error:\", mean_absolute_error(y_test, y_pred_lasso))\n",
    "print(\"Mean Squared Error:\", mean_squared_error(y_test, y_pred_lasso))\n",
    "print(\"R2 Score:\", r2_score(y_test, y_pred_lasso))\n"
   ]
  }
 ],
 "metadata": {
  "kernelspec": {
   "display_name": "venv",
   "language": "python",
   "name": "python3"
  },
  "language_info": {
   "codemirror_mode": {
    "name": "ipython",
    "version": 3
   },
   "file_extension": ".py",
   "mimetype": "text/x-python",
   "name": "python",
   "nbconvert_exporter": "python",
   "pygments_lexer": "ipython3",
   "version": "3.10.9"
  },
  "orig_nbformat": 4,
  "vscode": {
   "interpreter": {
    "hash": "669a41511c874db11bc6497c70316204608ccf7609afcc9599fb802faa18d4d8"
   }
  }
 },
 "nbformat": 4,
 "nbformat_minor": 2
}
