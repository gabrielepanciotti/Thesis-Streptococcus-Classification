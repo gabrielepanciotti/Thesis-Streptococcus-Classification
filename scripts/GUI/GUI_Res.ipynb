{
 "cells": [
  {
   "cell_type": "code",
   "execution_count": 5,
   "metadata": {},
   "outputs": [],
   "source": [
    "import tkinter as tk\n",
    "from tkinter import filedialog\n",
    "from tkinter import messagebox\n",
    "from tkinter import font\n",
    "from tkinter import ttk"
   ]
  },
  {
   "cell_type": "code",
   "execution_count": 6,
   "metadata": {},
   "outputs": [],
   "source": [
    "class AIModelApp:\n",
    "    def __init__(self, root):\n",
    "        self.root = root\n",
    "        label_font = font.Font(weight=\"bold\")\n",
    "        self.root.title(\"Streptococcus Subspecies Predictor\")\n",
    "        self.root.geometry(\"400x400\")\n",
    "\n",
    "        prevs_sub = ['Dysgalactiae', 'Dysgalactiae', 'Canis']\n",
    "        subs_conf = [95,93,91]\n",
    "        prevs_cli = ['NS', 'NS', 'S']\n",
    "        \n",
    "        prevs_isae = [0,1,1]\n",
    "        self.file_path = None\n",
    "        self.ids_strain = [\"V1046\", \"V1203\", \"V1226\"]\n",
    "        self.previsions = {'subs' : prevs_sub,\n",
    "                           'clindamicina' : prevs_cli,\n",
    "                           'isae' : prevs_isae}\n",
    "        for id_strain in self.ids_strain:\n",
    "            i = 0\n",
    "            prev_sub = prevs_sub[i]\n",
    "            prev_cli = prevs_cli[i]\n",
    "            prev_isae = prevs_isae[i]\n",
    "            sub_conf = subs_conf[i]\n",
    "            prev_cli = prevs_cli[i]\n",
    "            prev_isae = prevs_isae[i]\n",
    "            self.file_label = tk.Label(self.root, text=\"Campione analizzato: \"+id_strain, font=label_font)\n",
    "            self.file_label.pack(pady=5)\n",
    "            self.file_label = tk.Label(self.root, text=\"Previsione sottospecie: \"+prev_sub+\", Confidenza: \"+str(sub_conf))\n",
    "            self.file_label.pack(pady=5)\n",
    "            self.file_label = tk.Label(self.root, text=\"Previsione Clindamicina: \"+prev_cli)\n",
    "            self.file_label.pack(pady=5)\n",
    "            self.file_label = tk.Label(self.root, text=\"Previsione IsaE: \"+str(prev_isae))\n",
    "            self.file_label.pack(pady=5)\n",
    "\n",
    "        self.file_button = tk.Button(self.root, text=\"Elimina previsione\")\n",
    "        self.file_button.pack(padx=5,pady=0)\n",
    "        self.file_button = tk.Button(self.root, text=\"Nuova previsione\")\n",
    "        self.file_button.pack(padx=5,pady=10)\n",
    "        self.file_button = tk.Button(self.root, text=\"Esci\")\n",
    "        self.file_button.pack(padx=5,pady=20)\n",
    "\n",
    "if __name__ == \"__main__\":\n",
    "    root = tk.Tk()\n",
    "    app = AIModelApp(root)\n",
    "    root.mainloop()\n"
   ]
  },
  {
   "cell_type": "code",
   "execution_count": null,
   "metadata": {},
   "outputs": [],
   "source": []
  }
 ],
 "metadata": {
  "kernelspec": {
   "display_name": "Python 3",
   "language": "python",
   "name": "python3"
  },
  "language_info": {
   "codemirror_mode": {
    "name": "ipython",
    "version": 3
   },
   "file_extension": ".py",
   "mimetype": "text/x-python",
   "name": "python",
   "nbconvert_exporter": "python",
   "pygments_lexer": "ipython3",
   "version": "3.11.4"
  },
  "orig_nbformat": 4
 },
 "nbformat": 4,
 "nbformat_minor": 2
}
