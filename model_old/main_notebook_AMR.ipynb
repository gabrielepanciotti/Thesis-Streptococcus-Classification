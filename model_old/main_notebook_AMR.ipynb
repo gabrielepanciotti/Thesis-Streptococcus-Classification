{
 "cells": [
  {
   "cell_type": "code",
   "execution_count": null,
   "metadata": {},
   "outputs": [],
   "source": []
  }
 ],
 "metadata": {
  "kernelspec": {
   "display_name": "venv",
   "language": "python",
   "name": "python3"
  },
  "language_info": {
   "name": "python",
   "version": "3.10.9 (tags/v3.10.9:1dd9be6, Dec  6 2022, 20:01:21) [MSC v.1934 64 bit (AMD64)]"
  },
  "orig_nbformat": 4,
  "vscode": {
   "interpreter": {
    "hash": "6dabbc12efdf8f4ed23c27b017df9932148986fc5640203004a39cc19ec89775"
   }
  }
 },
 "nbformat": 4,
 "nbformat_minor": 2
}
